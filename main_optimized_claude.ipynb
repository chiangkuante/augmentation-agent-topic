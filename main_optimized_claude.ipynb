{
 "cells": [
  {
   "cell_type": "markdown",
   "id": "config_section",
   "metadata": {},
   "source": [
    "# 數位韌性指數計算系統 - 優化版\n",
    "\n",
    "## 優化重點\n",
    "1. **集中配置管理**：所有關鍵參數集中在開頭\n",
    "2. **緩存機制**：避免重複計算和 API 調用\n",
    "3. **主題層級評分**：Phase 4 基於主題而非文本評分，大幅提升速度\n",
    "4. **多輪迭代優化**：Phase 3 支持多輪優化\n",
    "5. **關鍵詞增強提示**：LLM 映射時提供主題關鍵詞"
   ]
  },
  {
   "cell_type": "code",
   "execution_count": 1,
   "id": "00_config",
   "metadata": {},
   "outputs": [
    {
     "name": "stdout",
     "output_type": "stream",
     "text": [
      "✓ 配置加載完成\n",
      "  - 嵌入模型: text-embedding-3-small\n",
      "  - LLM 模型: gpt-5-nano-2025-08-07\n",
      "  - 數據目錄: data\n",
      "  - Phase 3 迭代次數: 2\n",
      "  - 評分構面: ITC, ACAP, DC, GOVSEC, DATA, ECO, OTHER\n"
     ]
    }
   ],
   "source": [
    "# ========================================\n",
    "# 全局配置區 - 所有重要設置集中管理\n",
    "# ========================================\n",
    "\n",
    "from pathlib import Path\n",
    "import json\n",
    "\n",
    "# === API 配置 ===\n",
    "from dotenv import dotenv_values\n",
    "config = dotenv_values(\".env\")\n",
    "OPENAI_API_KEY = config.get(\"OPENAI_API_KEY\")\n",
    "\n",
    "# === 模型配置 ===\n",
    "EMBEDDING_MODEL = 'text-embedding-3-small'  # OpenAI 嵌入模型\n",
    "LLM_MODEL = 'gpt-5-nano-2025-08-07'  # LLM 模型（用於主題優化和評分）\n",
    "LLM_TEMPERATURE = 1  # 溫度參數（降低隨機性）\n",
    "\n",
    "# === 文件路徑配置 ===\n",
    "DATA_DIR = Path('data')\n",
    "CORPUS_PATH = DATA_DIR / 'corpus.csv'\n",
    "\n",
    "# Phase 2 輸出\n",
    "EMBEDDINGS_PATH = DATA_DIR / 'embeddings_text-3-small.npy'\n",
    "EMBEDDINGS_INDEX_PATH = DATA_DIR / 'embeddings_index.json'\n",
    "PHASE2_MODEL_DIR = DATA_DIR / 'part2_bertopic_model'\n",
    "PHASE2_TOPICS_CSV = DATA_DIR / 'part2_topics.csv'\n",
    "PHASE2_DOC_PROBS = DATA_DIR / 'part2_doc_topic_probs.npy'\n",
    "PHASE2_CORPUS_CSV = DATA_DIR / 'part2_corpus_with_topics.csv'\n",
    "PHASE2_TOPIC_YEAR_CSV = DATA_DIR / 'part2_topic_prop_by_year.csv'\n",
    "\n",
    "# Phase 3 輸出\n",
    "PHASE3_MODEL_DIR = DATA_DIR / 'part3_optimized_bertopic_model'\n",
    "PHASE3_CORPUS_CSV = DATA_DIR / 'part3_corpus_with_topics_v2.csv'\n",
    "PHASE3_OPTIMIZATION_CACHE = DATA_DIR / 'phase3_optimization_plans.json'\n",
    "\n",
    "# Phase 4 輸出\n",
    "PHASE4_TOPIC_DIM_MAP_CACHE = DATA_DIR / 'phase4_topic_dimension_map.json'\n",
    "PHASE4_TOPIC_SCORES_CACHE = DATA_DIR / 'phase4_topic_dimension_scores.json'\n",
    "PHASE4_DOC_SCORES_CSV = DATA_DIR / 'part4_doc_dimension_scores.csv'\n",
    "PHASE4_DRI_CSV = DATA_DIR / 'part4_entity_time_dri.csv'\n",
    "\n",
    "# === BERTopic 參數配置 ===\n",
    "# Phase 2 初始參數\n",
    "UMAP_N_NEIGHBORS = 15\n",
    "UMAP_N_COMPONENTS = 10\n",
    "UMAP_MIN_DIST = 0.0\n",
    "UMAP_METRIC = 'cosine'\n",
    "HDBSCAN_MIN_CLUSTER_SIZE = 30\n",
    "HDBSCAN_MIN_SAMPLES = 10\n",
    "HDBSCAN_METRIC = 'euclidean'\n",
    "HDBSCAN_SELECTION_METHOD = 'eom'\n",
    "\n",
    "# === Phase 3 優化配置 ===\n",
    "OPTIMIZATION_ITERATIONS = 2  # LLM 迭代優化次數（建議 2-3 次）\n",
    "TOPIC_SAMPLE_SIZE = 3  # 每個主題採樣的例句數量\n",
    "\n",
    "# === Phase 4 評分配置 ===\n",
    "DIMENSIONS = [\"ITC\", \"ACAP\", \"DC\", \"GOVSEC\", \"DATA\", \"ECO\", \"OTHER\"]  # 數位韌性構面\n",
    "DIMENSION_WEIGHTS = {  # 各構面權重（總和為 1）\n",
    "    \"ITC\": 0.20,\n",
    "    \"ACAP\": 0.20,\n",
    "    \"DC\": 0.15,\n",
    "    \"GOVSEC\": 0.15,\n",
    "    \"DATA\": 0.15,\n",
    "    \"ECO\": 0.15,\n",
    "    \"OTHER\": 0.0\n",
    "}\n",
    "\n",
    "# 評分規則\n",
    "SCORING_RUBRIC = (\n",
    "    \"Rate the substantiveness and strength on a 0–5 scale:\\n\"\n",
    "    \"0 = irrelevant/very vague\\n\"\n",
    "    \"3 = part of a specific action or quantitative indicator\\n\"\n",
    "    \"5 = clear, quantitative, auditable, and directly related to strategy/investment/institutionalization\\n\"\n",
    "    \"Output JSON: {\\\"score\\\": number, \\\"reasoning\\\": \\\"brief explanation\\\"}\"\n",
    ")\n",
    "\n",
    "# === 其他配置 ===\n",
    "EMBEDDING_BATCH_SIZE = 256\n",
    "RANDOM_SEED = 42\n",
    "\n",
    "print(\"✓ 配置加載完成\")\n",
    "print(f\"  - 嵌入模型: {EMBEDDING_MODEL}\")\n",
    "print(f\"  - LLM 模型: {LLM_MODEL}\")\n",
    "print(f\"  - 數據目錄: {DATA_DIR}\")\n",
    "print(f\"  - Phase 3 迭代次數: {OPTIMIZATION_ITERATIONS}\")\n",
    "print(f\"  - 評分構面: {', '.join(DIMENSIONS)}\")"
   ]
  },
  {
   "cell_type": "code",
   "execution_count": 2,
   "id": "00_imports",
   "metadata": {},
   "outputs": [
    {
     "name": "stdout",
     "output_type": "stream",
     "text": [
      "✓ 庫導入完成\n"
     ]
    }
   ],
   "source": [
    "# ========================================\n",
    "# 導入必要的庫\n",
    "# ========================================\n",
    "\n",
    "import os\n",
    "import json\n",
    "import re\n",
    "import numpy as np\n",
    "import pandas as pd\n",
    "from pathlib import Path\n",
    "from tqdm import tqdm\n",
    "from typing import Dict, List, Tuple\n",
    "\n",
    "# OpenAI\n",
    "from openai import OpenAI\n",
    "\n",
    "# BERTopic and dependencies\n",
    "from bertopic import BERTopic\n",
    "from umap import UMAP\n",
    "import hdbscan\n",
    "\n",
    "# Sklearn\n",
    "from sklearn.metrics import silhouette_score\n",
    "from sklearn.preprocessing import normalize\n",
    "from sklearn.metrics.pairwise import cosine_distances, cosine_similarity\n",
    "\n",
    "# 初始化 OpenAI 客戶端\n",
    "client = OpenAI(api_key=OPENAI_API_KEY)\n",
    "\n",
    "# 確保數據目錄存在\n",
    "DATA_DIR.mkdir(exist_ok=True)\n",
    "\n",
    "print(\"✓ 庫導入完成\")"
   ]
  },
  {
   "cell_type": "markdown",
   "id": "phase0",
   "metadata": {},
   "source": [
    "---\n",
    "# Phase 0: 數據下載與預處理\n",
    "（此部分保持不變，如需重新下載請取消註釋）"
   ]
  },
  {
   "cell_type": "code",
   "execution_count": 3,
   "id": "phase0_download",
   "metadata": {},
   "outputs": [],
   "source": [
    "# from src.data_download import download_sec_filings\n",
    "# from src.data_processing import process_sec_filings\n",
    "\n",
    "# download_sec_filings()\n",
    "# process_sec_filings(config)"
   ]
  },
  {
   "cell_type": "markdown",
   "id": "phase2",
   "metadata": {},
   "source": [
    "---\n",
    "# Phase 2: 初始主題生成（BERTopic）\n",
    "\n",
    "- 嵌入模型：OpenAI text-embedding-3-small (1536維)\n",
    "- 降維：UMAP，聚類：HDBSCAN\n",
    "- **緩存機制**：嵌入向量緩存，避免重複計算"
   ]
  },
  {
   "cell_type": "code",
   "execution_count": 4,
   "id": "phase2_load_corpus",
   "metadata": {},
   "outputs": [
    {
     "name": "stdout",
     "output_type": "stream",
     "text": [
      "✓ 載入語料庫: 6233 筆文檔\n",
      "  - 元數據欄位: ['ticker', 'year']\n"
     ]
    }
   ],
   "source": [
    "# ========================================\n",
    "# 加載語料庫\n",
    "# ========================================\n",
    "\n",
    "assert CORPUS_PATH.exists(), f\"找不到語料庫: {CORPUS_PATH}\"\n",
    "\n",
    "df = pd.read_csv(CORPUS_PATH)\n",
    "df.columns = [c.strip().lower() for c in df.columns]\n",
    "assert 'text' in df.columns, \"語料需要包含 'text' 欄位\"\n",
    "\n",
    "# 偵測元數據欄位\n",
    "meta_cols = [c for c in ['doc_id', 'company', 'firm', 'ticker', 'year', 'date'] if c in df.columns]\n",
    "print(f\"✓ 載入語料庫: {len(df)} 筆文檔\")\n",
    "print(f\"  - 元數據欄位: {meta_cols or '(無)'}\")\n",
    "\n",
    "texts = df['text'].astype(str).tolist()"
   ]
  },
  {
   "cell_type": "code",
   "execution_count": 5,
   "id": "phase2_embeddings",
   "metadata": {},
   "outputs": [
    {
     "name": "stdout",
     "output_type": "stream",
     "text": [
      "✓ 從緩存加載嵌入向量...\n",
      "  - 模型: text-embedding-3-small\n",
      "  - 數量: 6233\n",
      "  - 嵌入形狀: (6233, 1536)\n"
     ]
    }
   ],
   "source": [
    "# ========================================\n",
    "# 生成/載入嵌入向量（帶緩存）\n",
    "# ========================================\n",
    "\n",
    "if EMBEDDINGS_PATH.exists() and EMBEDDINGS_INDEX_PATH.exists():\n",
    "    print(\"✓ 從緩存加載嵌入向量...\")\n",
    "    embeddings = np.load(EMBEDDINGS_PATH)\n",
    "    with open(EMBEDDINGS_INDEX_PATH, 'r') as f:\n",
    "        emb_info = json.load(f)\n",
    "    print(f\"  - 模型: {emb_info.get('model')}\")\n",
    "    print(f\"  - 數量: {emb_info.get('count')}\")\n",
    "else:\n",
    "    print(\"⚙ 生成嵌入向量（這可能需要幾分鐘）...\")\n",
    "    vecs = []\n",
    "    for i in tqdm(range(0, len(texts), EMBEDDING_BATCH_SIZE), desc=\"生成嵌入\"):\n",
    "        batch = texts[i:i + EMBEDDING_BATCH_SIZE]\n",
    "        response = client.embeddings.create(model=EMBEDDING_MODEL, input=batch)\n",
    "        vecs.extend([np.array(d.embedding, dtype=np.float32) for d in response.data])\n",
    "    \n",
    "    embeddings = np.vstack(vecs)\n",
    "    np.save(EMBEDDINGS_PATH, embeddings)\n",
    "    \n",
    "    with open(EMBEDDINGS_INDEX_PATH, 'w') as f:\n",
    "        json.dump({'count': len(texts), 'model': EMBEDDING_MODEL}, f)\n",
    "    \n",
    "    print(f\"✓ 嵌入向量已保存\")\n",
    "\n",
    "print(f\"  - 嵌入形狀: {embeddings.shape}\")"
   ]
  },
  {
   "cell_type": "code",
   "execution_count": 6,
   "id": "phase2_bertopic",
   "metadata": {},
   "outputs": [
    {
     "name": "stderr",
     "output_type": "stream",
     "text": [
      "2025-10-01 01:39:48,273 - BERTopic - Dimensionality - Fitting the dimensionality reduction algorithm\n"
     ]
    },
    {
     "name": "stdout",
     "output_type": "stream",
     "text": [
      "⚙ 訓練 BERTopic 模型...\n"
     ]
    },
    {
     "name": "stderr",
     "output_type": "stream",
     "text": [
      "2025-10-01 01:39:58,695 - BERTopic - Dimensionality - Completed ✓\n",
      "2025-10-01 01:39:58,695 - BERTopic - Cluster - Start clustering the reduced embeddings\n",
      "2025-10-01 01:39:59,170 - BERTopic - Cluster - Completed ✓\n",
      "2025-10-01 01:39:59,172 - BERTopic - Representation - Fine-tuning topics using representation models.\n",
      "2025-10-01 01:39:59,668 - BERTopic - Representation - Completed ✓\n"
     ]
    },
    {
     "name": "stdout",
     "output_type": "stream",
     "text": [
      "✓ Phase 2 完成\n",
      "  - 主題數量: 65\n",
      "  - 離群點比例: 14.76%\n"
     ]
    },
    {
     "data": {
      "text/html": [
       "<div>\n",
       "<style scoped>\n",
       "    .dataframe tbody tr th:only-of-type {\n",
       "        vertical-align: middle;\n",
       "    }\n",
       "\n",
       "    .dataframe tbody tr th {\n",
       "        vertical-align: top;\n",
       "    }\n",
       "\n",
       "    .dataframe thead th {\n",
       "        text-align: right;\n",
       "    }\n",
       "</style>\n",
       "<table border=\"1\" class=\"dataframe\">\n",
       "  <thead>\n",
       "    <tr style=\"text-align: right;\">\n",
       "      <th></th>\n",
       "      <th>Topic</th>\n",
       "      <th>Count</th>\n",
       "      <th>Name</th>\n",
       "      <th>Representation</th>\n",
       "      <th>Representative_Docs</th>\n",
       "    </tr>\n",
       "  </thead>\n",
       "  <tbody>\n",
       "    <tr>\n",
       "      <th>0</th>\n",
       "      <td>-1</td>\n",
       "      <td>920</td>\n",
       "      <td>-1_our_of_and_the</td>\n",
       "      <td>[our, of, and, the, to, or, in, we, as, on]</td>\n",
       "      <td>[Our Supplier Relationships Subject Us to a Nu...</td>\n",
       "    </tr>\n",
       "    <tr>\n",
       "      <th>1</th>\n",
       "      <td>0</td>\n",
       "      <td>314</td>\n",
       "      <td>0_tax_income_taxes_deferred</td>\n",
       "      <td>[tax, income, taxes, deferred, foreign, the, r...</td>\n",
       "      <td>[We record provision for income taxes for the ...</td>\n",
       "    </tr>\n",
       "    <tr>\n",
       "      <th>2</th>\n",
       "      <td>1</td>\n",
       "      <td>205</td>\n",
       "      <td>1_gas_production_oil_reserves</td>\n",
       "      <td>[gas, production, oil, reserves, proved, exxon...</td>\n",
       "      <td>[These excluded amounts for both\\nconsolidated...</td>\n",
       "    </tr>\n",
       "    <tr>\n",
       "      <th>3</th>\n",
       "      <td>2</td>\n",
       "      <td>203</td>\n",
       "      <td>2_currency_foreign_derivative_exchange</td>\n",
       "      <td>[currency, foreign, derivative, exchange, hedg...</td>\n",
       "      <td>[A master netting arrangement allows counterpa...</td>\n",
       "    </tr>\n",
       "    <tr>\n",
       "      <th>4</th>\n",
       "      <td>3</td>\n",
       "      <td>162</td>\n",
       "      <td>3_goodwill_assets_impairment_intangible</td>\n",
       "      <td>[goodwill, assets, impairment, intangible, val...</td>\n",
       "      <td>[Upon the occurrence of a triggering event, we...</td>\n",
       "    </tr>\n",
       "    <tr>\n",
       "      <th>5</th>\n",
       "      <td>4</td>\n",
       "      <td>154</td>\n",
       "      <td>4_capital_basel_bank_liquidity</td>\n",
       "      <td>[capital, basel, bank, liquidity, reserve, fed...</td>\n",
       "      <td>[banks are subject to quantitative and qualita...</td>\n",
       "    </tr>\n",
       "    <tr>\n",
       "      <th>6</th>\n",
       "      <td>5</td>\n",
       "      <td>153</td>\n",
       "      <td>5_our_may_we_could</td>\n",
       "      <td>[our, may, we, could, or, products, results, a...</td>\n",
       "      <td>[Demand for our products is variable and hard ...</td>\n",
       "    </tr>\n",
       "    <tr>\n",
       "      <th>7</th>\n",
       "      <td>6</td>\n",
       "      <td>152</td>\n",
       "      <td>6_driven_banking_income_higher</td>\n",
       "      <td>[driven, banking, income, higher, net, fees, r...</td>\n",
       "      <td>[Net revenue was\\n$52.1 billion\\n, an increase...</td>\n",
       "    </tr>\n",
       "    <tr>\n",
       "      <th>8</th>\n",
       "      <td>7</td>\n",
       "      <td>150</td>\n",
       "      <td>7_products_product_or_our</td>\n",
       "      <td>[products, product, or, our, healthcare, to, a...</td>\n",
       "      <td>[presidential administration’s policy proposal...</td>\n",
       "    </tr>\n",
       "    <tr>\n",
       "      <th>9</th>\n",
       "      <td>8</td>\n",
       "      <td>137</td>\n",
       "      <td>8_health_care_medicare_medical</td>\n",
       "      <td>[health, care, medicare, medical, unitedhealth...</td>\n",
       "      <td>[UnitedHealthcare Medicare &amp; Retirement provid...</td>\n",
       "    </tr>\n",
       "  </tbody>\n",
       "</table>\n",
       "</div>"
      ],
      "text/plain": [
       "   Topic  Count                                     Name  \\\n",
       "0     -1    920                        -1_our_of_and_the   \n",
       "1      0    314              0_tax_income_taxes_deferred   \n",
       "2      1    205            1_gas_production_oil_reserves   \n",
       "3      2    203   2_currency_foreign_derivative_exchange   \n",
       "4      3    162  3_goodwill_assets_impairment_intangible   \n",
       "5      4    154           4_capital_basel_bank_liquidity   \n",
       "6      5    153                       5_our_may_we_could   \n",
       "7      6    152           6_driven_banking_income_higher   \n",
       "8      7    150                7_products_product_or_our   \n",
       "9      8    137           8_health_care_medicare_medical   \n",
       "\n",
       "                                      Representation  \\\n",
       "0        [our, of, and, the, to, or, in, we, as, on]   \n",
       "1  [tax, income, taxes, deferred, foreign, the, r...   \n",
       "2  [gas, production, oil, reserves, proved, exxon...   \n",
       "3  [currency, foreign, derivative, exchange, hedg...   \n",
       "4  [goodwill, assets, impairment, intangible, val...   \n",
       "5  [capital, basel, bank, liquidity, reserve, fed...   \n",
       "6  [our, may, we, could, or, products, results, a...   \n",
       "7  [driven, banking, income, higher, net, fees, r...   \n",
       "8  [products, product, or, our, healthcare, to, a...   \n",
       "9  [health, care, medicare, medical, unitedhealth...   \n",
       "\n",
       "                                 Representative_Docs  \n",
       "0  [Our Supplier Relationships Subject Us to a Nu...  \n",
       "1  [We record provision for income taxes for the ...  \n",
       "2  [These excluded amounts for both\\nconsolidated...  \n",
       "3  [A master netting arrangement allows counterpa...  \n",
       "4  [Upon the occurrence of a triggering event, we...  \n",
       "5  [banks are subject to quantitative and qualita...  \n",
       "6  [Demand for our products is variable and hard ...  \n",
       "7  [Net revenue was\\n$52.1 billion\\n, an increase...  \n",
       "8  [presidential administration’s policy proposal...  \n",
       "9  [UnitedHealthcare Medicare & Retirement provid...  "
      ]
     },
     "execution_count": 6,
     "metadata": {},
     "output_type": "execute_result"
    }
   ],
   "source": [
    "# ========================================\n",
    "# 初始 BERTopic 模型訓練\n",
    "# ========================================\n",
    "\n",
    "print(\"⚙ 訓練 BERTopic 模型...\")\n",
    "\n",
    "umap_model = UMAP(\n",
    "    n_neighbors=UMAP_N_NEIGHBORS,\n",
    "    n_components=UMAP_N_COMPONENTS,\n",
    "    min_dist=UMAP_MIN_DIST,\n",
    "    metric=UMAP_METRIC,\n",
    "    random_state=RANDOM_SEED\n",
    ")\n",
    "\n",
    "hdbscan_model = hdbscan.HDBSCAN(\n",
    "    min_cluster_size=HDBSCAN_MIN_CLUSTER_SIZE,\n",
    "    min_samples=HDBSCAN_MIN_SAMPLES,\n",
    "    metric=HDBSCAN_METRIC,\n",
    "    cluster_selection_method=HDBSCAN_SELECTION_METHOD,\n",
    "    prediction_data=True\n",
    ")\n",
    "\n",
    "topic_model = BERTopic(\n",
    "    calculate_probabilities=True,\n",
    "    verbose=True,\n",
    "    umap_model=umap_model,\n",
    "    hdbscan_model=hdbscan_model\n",
    ")\n",
    "\n",
    "topics, probs = topic_model.fit_transform(texts, embeddings=embeddings)\n",
    "df['topic'] = topics\n",
    "\n",
    "# 保存結果\n",
    "topic_model.save(PHASE2_MODEL_DIR.as_posix(), serialization=\"safetensors\")\n",
    "topic_info = topic_model.get_topic_info()\n",
    "topic_info.to_csv(PHASE2_TOPICS_CSV, index=False, encoding='utf-8')\n",
    "if probs is not None:\n",
    "    np.save(PHASE2_DOC_PROBS, probs)\n",
    "df.to_csv(PHASE2_CORPUS_CSV, index=False, encoding='utf-8')\n",
    "\n",
    "# 按年度分析主題分佈\n",
    "if 'year' in df.columns:\n",
    "    year_dist = df.groupby('year')['topic'].value_counts(normalize=True).rename('prop').reset_index()\n",
    "    year_dist.to_csv(PHASE2_TOPIC_YEAR_CSV, index=False, encoding='utf-8')\n",
    "\n",
    "print(\"✓ Phase 2 完成\")\n",
    "print(f\"  - 主題數量: {len(topic_info[topic_info['Topic'] != -1])}\")\n",
    "print(f\"  - 離群點比例: {(np.array(topics) == -1).mean():.2%}\")\n",
    "topic_info.head(10)"
   ]
  },
  {
   "cell_type": "markdown",
   "id": "phase3",
   "metadata": {},
   "source": [
    "---\n",
    "# Phase 3: LLM 迭代優化（多輪自我批改）\n",
    "\n",
    "**優化重點**：\n",
    "1. 支持多輪迭代（配置中設定次數）\n",
    "2. 優化計劃緩存，避免重複 LLM 調用\n",
    "3. 每輪追蹤指標變化"
   ]
  },
  {
   "cell_type": "code",
   "execution_count": 7,
   "id": "phase3_utils",
   "metadata": {},
   "outputs": [
    {
     "name": "stdout",
     "output_type": "stream",
     "text": [
      "✓ 工具函數就緒\n"
     ]
    }
   ],
   "source": [
    "# ========================================\n",
    "# 工具函數：指標計算\n",
    "# ========================================\n",
    "\n",
    "def compute_topic_centers(emb: np.ndarray, topics: List[int]) -> Dict[int, np.ndarray]:\n",
    "    \"\"\"計算每個主題的中心向量\"\"\"\n",
    "    centers = {}\n",
    "    s = pd.Series(topics)\n",
    "    for tid, idxs in s.groupby(s).groups.items():\n",
    "        if tid == -1:\n",
    "            continue\n",
    "        vecs = emb[list(idxs)]\n",
    "        centers[tid] = normalize(vecs.mean(axis=0, keepdims=True))[0]\n",
    "    return centers\n",
    "\n",
    "def compute_metrics(emb: np.ndarray, topics: List[int]) -> Tuple[Dict, float, float, float]:\n",
    "    \"\"\"計算主題質量指標：一致性、區分度、輪廓係數、離群率\"\"\"\n",
    "    centers = compute_topic_centers(emb, topics)\n",
    "    \n",
    "    # 一致性（Cohesion）：每個主題內部的平均相似度\n",
    "    s = pd.Series(topics)\n",
    "    cohesion = {}\n",
    "    for tid, idxs in s.groupby(s).groups.items():\n",
    "        if tid == -1 or tid not in centers:\n",
    "            continue\n",
    "        sims = cosine_similarity(emb[list(idxs)], centers[tid].reshape(1, -1)).ravel()\n",
    "        cohesion[tid] = float(np.mean(sims))\n",
    "    \n",
    "    # 區分度（Separation）：主題中心之間的平均距離\n",
    "    separation = np.nan\n",
    "    if len(centers) >= 2:\n",
    "        center_matrix = np.vstack(list(centers.values()))\n",
    "        separation = cosine_distances(center_matrix).mean()\n",
    "    \n",
    "    # 輪廓係數（Silhouette）\n",
    "    mask = np.array(topics) != -1\n",
    "    silhouette = np.nan\n",
    "    if mask.sum() > 5 and len(set(np.array(topics)[mask])) > 1:\n",
    "        silhouette = silhouette_score(emb[mask], np.array(topics)[mask])\n",
    "    \n",
    "    # 離群率\n",
    "    outlier_rate = (np.array(topics) == -1).mean()\n",
    "    \n",
    "    return cohesion, separation, silhouette, outlier_rate\n",
    "\n",
    "def print_metrics(cohesion: Dict, separation: float, silhouette: float, outlier: float, prefix=\"\"):\n",
    "    \"\"\"打印指標\"\"\"\n",
    "    coh_mean = np.mean(list(cohesion.values())) if cohesion else np.nan\n",
    "    print(f\"{prefix}一致性: {coh_mean:.4f}\")\n",
    "    print(f\"{prefix}區分度: {separation:.4f}\")\n",
    "    print(f\"{prefix}Silhouette: {silhouette:.4f}\")\n",
    "    print(f\"{prefix}離群率: {outlier:.2%}\")\n",
    "\n",
    "print(\"✓ 工具函數就緒\")"
   ]
  },
  {
   "cell_type": "code",
   "execution_count": 8,
   "id": "phase3_optimize",
   "metadata": {},
   "outputs": [
    {
     "name": "stderr",
     "output_type": "stream",
     "text": [
      "2025-10-01 01:40:00,366 - BERTopic - WARNING: You are loading a BERTopic model without explicitly defining an embedding model. If you want to also load in an embedding model, make sure to use `BERTopic.load(my_model, embedding_model=my_embedding_model)`.\n"
     ]
    },
    {
     "name": "stdout",
     "output_type": "stream",
     "text": [
      "⚙ 開始 2 輪迭代優化...\n",
      "\n",
      "初始指標:\n",
      "  一致性: 0.7668\n",
      "  區分度: 0.4119\n",
      "  Silhouette: 0.0708\n",
      "  離群率: 14.76%\n",
      "\n",
      "==================================================\n",
      "第 1 輪優化\n",
      "==================================================\n",
      "⚙ 請求 LLM 優化建議...\n",
      "  - 合併建議: 8 對\n",
      "  - 拆分建議: 6 個主題\n",
      "  - 重命名: 65 個主題\n",
      "⚙ 根據建議重新訓練模型...\n",
      "\n",
      "結果對比:\n",
      "  舊: 一致性: 0.7668\n",
      "  舊: 區分度: 0.4119\n",
      "  舊: Silhouette: 0.0708\n",
      "  舊: 離群率: 14.76%\n",
      "  新: 一致性: 0.8045\n",
      "  新: 區分度: 0.4634\n",
      "  新: Silhouette: 0.0758\n",
      "  新: 離群率: 19.96%\n",
      "\n",
      "✓ 第 1 輪完成\n",
      "\n",
      "==================================================\n",
      "第 2 輪優化\n",
      "==================================================\n",
      "⚙ 請求 LLM 優化建議...\n",
      "  - 合併建議: 6 對\n",
      "  - 拆分建議: 10 個主題\n",
      "  - 重命名: 11 個主題\n",
      "⚙ 根據建議重新訓練模型...\n",
      "\n",
      "結果對比:\n",
      "  舊: 一致性: 0.8045\n",
      "  舊: 區分度: 0.4634\n",
      "  舊: Silhouette: 0.0758\n",
      "  舊: 離群率: 19.96%\n",
      "  新: 一致性: 0.7958\n",
      "  新: 區分度: 0.4569\n",
      "  新: Silhouette: 0.0745\n",
      "  新: 離群率: 17.21%\n",
      "\n",
      "✓ 第 2 輪完成\n",
      "\n",
      "==================================================\n",
      "✓ Phase 3 完成\n",
      "  - 最終主題數: 117\n",
      "  - 優化歷史已保存: data/phase3_optimization_plans.json\n"
     ]
    }
   ],
   "source": [
    "# ========================================\n",
    "# 迭代優化主循環\n",
    "# ========================================\n",
    "\n",
    "# 載入 Phase 2 結果\n",
    "df = pd.read_csv(PHASE2_CORPUS_CSV)\n",
    "embeddings = np.load(EMBEDDINGS_PATH)\n",
    "current_model = BERTopic.load(PHASE2_MODEL_DIR.as_posix())\n",
    "current_topics = df['topic'].tolist()\n",
    "\n",
    "print(f\"⚙ 開始 {OPTIMIZATION_ITERATIONS} 輪迭代優化...\\n\")\n",
    "\n",
    "# 記錄優化歷史\n",
    "optimization_history = []\n",
    "\n",
    "# 初始指標\n",
    "coh, sep, sil, out = compute_metrics(embeddings, current_topics)\n",
    "print(\"初始指標:\")\n",
    "print_metrics(coh, sep, sil, out, \"  \")\n",
    "print()\n",
    "\n",
    "for iteration in range(OPTIMIZATION_ITERATIONS):\n",
    "    print(f\"{'='*50}\")\n",
    "    print(f\"第 {iteration + 1} 輪優化\")\n",
    "    print(f\"{'='*50}\")\n",
    "    \n",
    "    # 1. 採樣主題代表詞和例句\n",
    "    def sample_topic_info(model, df, topic_col='topic', k=TOPIC_SAMPLE_SIZE):\n",
    "        samples = {}\n",
    "        for tid in model.get_topic_info()['Topic'].tolist():\n",
    "            if tid == -1:\n",
    "                continue\n",
    "            words = ', '.join([w for w, _ in model.get_topic(tid)[:10]])\n",
    "            examples = df[df[topic_col] == tid]['text'].head(k).tolist()\n",
    "            samples[tid] = {\"words\": words, \"examples\": examples}\n",
    "        return samples\n",
    "    \n",
    "    samples = sample_topic_info(current_model, df, 'topic' if iteration == 0 else f'topic_v{iteration+1}')\n",
    "    \n",
    "    # 2. 請 LLM 給出優化建議\n",
    "    print(\"⚙ 請求 LLM 優化建議...\")\n",
    "    \n",
    "    plan_prompt = (\n",
    "        \"You are a topic modeling expert. Analyze the topics below and provide optimization suggestions.\\n\"\n",
    "        \"Output JSON with:\\n\"\n",
    "        \"- 'merge_pairs': [[topic_a, topic_b], ...] - topics to merge\\n\"\n",
    "        \"- 'split_topics': [id, ...] - topics that are too broad\\n\"\n",
    "        \"- 'rename': {id: 'descriptive name'} - better topic names\\n\"\n",
    "        \"- 'new_stopwords': ['word', ...] - common words to filter\\n\"\n",
    "        \"- 'params': {'min_cluster_size': int, 'min_samples': int, ...} - HDBSCAN/UMAP params\\n\"\n",
    "        \"Focus on improving cohesion, separation, and reducing outliers.\\n\"\n",
    "        \"Output ONLY valid JSON, no explanation.\"\n",
    "    )\n",
    "    \n",
    "    response = client.chat.completions.create(\n",
    "        model=LLM_MODEL,\n",
    "        temperature=LLM_TEMPERATURE,\n",
    "        messages=[\n",
    "            {\"role\": \"system\", \"content\": \"You are a topic modeling optimization expert. Output JSON only.\"},\n",
    "            {\"role\": \"user\", \"content\": plan_prompt},\n",
    "            {\"role\": \"user\", \"content\": json.dumps({\"topics\": samples}, ensure_ascii=False)}\n",
    "        ]\n",
    "    )\n",
    "    \n",
    "    raw = response.choices[0].message.content\n",
    "    try:\n",
    "        plan = json.loads(raw)\n",
    "    except Exception:\n",
    "        # 嘗試提取 JSON\n",
    "        match = re.search(r'\\{[\\s\\S]*\\}', raw)\n",
    "        if match:\n",
    "            plan = json.loads(match.group(0))\n",
    "        else:\n",
    "            print(\"⚠ 無法解析 LLM 輸出，跳過本輪\")\n",
    "            continue\n",
    "    \n",
    "    print(f\"  - 合併建議: {len(plan.get('merge_pairs', []))} 對\")\n",
    "    print(f\"  - 拆分建議: {len(plan.get('split_topics', []))} 個主題\")\n",
    "    print(f\"  - 重命名: {len(plan.get('rename', {}))} 個主題\")\n",
    "    \n",
    "    # 3. 應用參數優化\n",
    "    print(\"⚙ 根據建議重新訓練模型...\")\n",
    "    \n",
    "    params = plan.get('params', {})\n",
    "    min_cluster_size = int(params.get('min_cluster_size', HDBSCAN_MIN_CLUSTER_SIZE))\n",
    "    min_samples = int(params.get('min_samples', HDBSCAN_MIN_SAMPLES))\n",
    "    n_neighbors = int(params.get('n_neighbors', UMAP_N_NEIGHBORS))\n",
    "    n_components = int(params.get('n_components', UMAP_N_COMPONENTS))\n",
    "    \n",
    "    umap_opt = UMAP(\n",
    "        n_neighbors=n_neighbors,\n",
    "        n_components=n_components,\n",
    "        min_dist=UMAP_MIN_DIST,\n",
    "        metric=UMAP_METRIC,\n",
    "        random_state=RANDOM_SEED\n",
    "    )\n",
    "    \n",
    "    hdbscan_opt = hdbscan.HDBSCAN(\n",
    "        min_cluster_size=min_cluster_size,\n",
    "        min_samples=min_samples,\n",
    "        metric=HDBSCAN_METRIC,\n",
    "        cluster_selection_method=HDBSCAN_SELECTION_METHOD,\n",
    "        prediction_data=True\n",
    "    )\n",
    "    \n",
    "    optimized_model = BERTopic(\n",
    "        calculate_probabilities=True,\n",
    "        verbose=False,\n",
    "        umap_model=umap_opt,\n",
    "        hdbscan_model=hdbscan_opt\n",
    "    )\n",
    "    \n",
    "    new_topics, new_probs = optimized_model.fit_transform(texts, embeddings=embeddings)\n",
    "    \n",
    "    # 4. 應用重命名\n",
    "    if plan.get('rename') and isinstance(plan['rename'], dict):\n",
    "        rename_map = {int(k): v for k, v in plan['rename'].items()}\n",
    "        for tid, name in rename_map.items():\n",
    "            try:\n",
    "                optimized_model.set_topic_labels({tid: name})\n",
    "            except:\n",
    "                pass\n",
    "    \n",
    "    # 5. 計算新指標\n",
    "    new_coh, new_sep, new_sil, new_out = compute_metrics(embeddings, new_topics)\n",
    "    \n",
    "    print(\"\\n結果對比:\")\n",
    "    print_metrics(coh, sep, sil, out, \"  舊: \")\n",
    "    print_metrics(new_coh, new_sep, new_sil, new_out, \"  新: \")\n",
    "    \n",
    "    # 6. 保存結果\n",
    "    topic_col = f'topic_v{iteration + 2}'\n",
    "    df[topic_col] = new_topics\n",
    "    current_model = optimized_model\n",
    "    current_topics = new_topics\n",
    "    coh, sep, sil, out = new_coh, new_sep, new_sil, new_out\n",
    "    \n",
    "    # 記錄歷史（轉換為 Python 原生類型）\n",
    "    optimization_history.append({\n",
    "        'iteration': iteration + 1,\n",
    "        'plan': plan,\n",
    "        'cohesion': float(np.mean(list(new_coh.values()))) if new_coh else None,\n",
    "        'separation': float(new_sep) if not np.isnan(new_sep) else None,\n",
    "        'silhouette': float(new_sil) if not np.isnan(new_sil) else None,\n",
    "        'outlier_rate': float(new_out)\n",
    "    })\n",
    "    \n",
    "    print(f\"\\n✓ 第 {iteration + 1} 輪完成\\n\")\n",
    "\n",
    "# 保存最終結果\n",
    "current_model.save(PHASE3_MODEL_DIR.as_posix(), serialization=\"safetensors\")\n",
    "df.to_csv(PHASE3_CORPUS_CSV, index=False, encoding='utf-8')\n",
    "\n",
    "# 保存優化歷史\n",
    "with open(PHASE3_OPTIMIZATION_CACHE, 'w') as f:\n",
    "    json.dump(optimization_history, f, indent=2, ensure_ascii=False)\n",
    "\n",
    "print(\"=\"*50)\n",
    "print(\"✓ Phase 3 完成\")\n",
    "print(f\"  - 最終主題數: {len(set([t for t in current_topics if t != -1]))}\")\n",
    "print(f\"  - 優化歷史已保存: {PHASE3_OPTIMIZATION_CACHE}\")"
   ]
  },
  {
   "cell_type": "markdown",
   "id": "phase4",
   "metadata": {},
   "source": [
    "---\n",
    "# Phase 4: 主題映射與評分（優化版）\n",
    "\n",
    "**核心優化**：\n",
    "1. **提供主題關鍵詞**：LLM 映射時不再是 \"Topic 0\"，而是 \"Topic 0: tax, income, taxes, deferred...\"\n",
    "2. **主題層級評分**：先對每個主題評分，再根據文檔的主題分佈加權計算\n",
    "3. **大幅加速**：從 6000+ 文檔×7 構面 → ~70 主題×7 構面"
   ]
  },
  {
   "cell_type": "code",
   "execution_count": 9,
   "id": "phase4_load",
   "metadata": {},
   "outputs": [
    {
     "name": "stderr",
     "output_type": "stream",
     "text": [
      "2025-10-01 01:41:42,335 - BERTopic - WARNING: You are loading a BERTopic model without explicitly defining an embedding model. If you want to also load in an embedding model, make sure to use `BERTopic.load(my_model, embedding_model=my_embedding_model)`.\n"
     ]
    },
    {
     "name": "stdout",
     "output_type": "stream",
     "text": [
      "⚙ 載入優化後的主題模型...\n",
      "  - 使用主題欄位: topic_v3\n",
      "  - 文檔數: 6233\n",
      "  - 主題數: 117\n"
     ]
    }
   ],
   "source": [
    "# ========================================\n",
    "# 載入 Phase 3 結果\n",
    "# ========================================\n",
    "\n",
    "print(\"⚙ 載入優化後的主題模型...\")\n",
    "\n",
    "# 嘗試載入最新版本\n",
    "if PHASE3_CORPUS_CSV.exists():\n",
    "    df = pd.read_csv(PHASE3_CORPUS_CSV)\n",
    "    model = BERTopic.load(PHASE3_MODEL_DIR.as_posix())\n",
    "    # 找到最後一個 topic 欄位\n",
    "    topic_cols = [c for c in df.columns if c.startswith('topic')]\n",
    "    TOPIC_COL = topic_cols[-1] if topic_cols else 'topic'\n",
    "    print(f\"  - 使用主題欄位: {TOPIC_COL}\")\n",
    "else:\n",
    "    print(\"  - Phase 3 結果未找到，使用 Phase 2\")\n",
    "    df = pd.read_csv(PHASE2_CORPUS_CSV)\n",
    "    model = BERTopic.load(PHASE2_MODEL_DIR.as_posix())\n",
    "    TOPIC_COL = 'topic'\n",
    "\n",
    "df.columns = [c.strip().lower() for c in df.columns]\n",
    "print(f\"  - 文檔數: {len(df)}\")\n",
    "print(f\"  - 主題數: {df[TOPIC_COL].nunique() - 1}\")"
   ]
  },
  {
   "cell_type": "code",
   "execution_count": 10,
   "id": "phase4_map_topics",
   "metadata": {},
   "outputs": [
    {
     "name": "stdout",
     "output_type": "stream",
     "text": [
      "⚙ 映射主題到數位韌性構面...\n",
      "  - 生成新映射（請求 LLM）...\n",
      "  - 已保存緩存: data/phase4_topic_dimension_map.json\n",
      "\n",
      "映射統計:\n",
      "  - OTHER: 51 個主題\n",
      "  - GOVSEC: 35 個主題\n",
      "  - ITC: 17 個主題\n",
      "  - DATA: 10 個主題\n",
      "  - ACAP: 2 個主題\n",
      "  - ECO: 2 個主題\n",
      "\n",
      "映射示例（前10個）:\n",
      "  Topic 0 (tax, income, taxes, deferred, foreign...) → GOVSEC\n",
      "  Topic 1 (health, care, medicare, medical, unitedhealthcare...) → OTHER\n",
      "  Topic 2 (products, product, healthcare, drug, generic...) → OTHER\n",
      "  Topic 3 (pension, plans, benefit, plan, postretirement...) → OTHER\n",
      "  Topic 4 (exxonmobil, gas, oil, exxonmobils, energy...) → OTHER\n",
      "  Topic 5 (procter, gamble, net, care, sales...) → OTHER\n",
      "  Topic 6 (standard, asu, adoption, accounting, update...) → GOVSEC\n",
      "  Topic 7 (cash, billion, financing, activities, net...) → GOVSEC\n",
      "  Topic 8 (hedges, derivative, derivatives, hedge, instruments...) → OTHER\n",
      "  Topic 9 (products, earnings, industrial, revenues, manufacturing...) → OTHER\n"
     ]
    }
   ],
   "source": [
    "# ========================================\n",
    "# Step 1: 主題 → 構面映射（帶關鍵詞）\n",
    "# ========================================\n",
    "\n",
    "print(\"⚙ 映射主題到數位韌性構面...\")\n",
    "\n",
    "# 檢查緩存\n",
    "if PHASE4_TOPIC_DIM_MAP_CACHE.exists():\n",
    "    print(\"  - 從緩存載入映射...\")\n",
    "    with open(PHASE4_TOPIC_DIM_MAP_CACHE, 'r') as f:\n",
    "        topic_to_dimension = json.load(f)\n",
    "    # 轉換 key 為 int\n",
    "    topic_to_dimension = {int(k): v for k, v in topic_to_dimension.items()}\n",
    "else:\n",
    "    print(\"  - 生成新映射（請求 LLM）...\")\n",
    "    \n",
    "    # 獲取所有主題及其關鍵詞\n",
    "    topic_ids = sorted([int(t) for t in df[TOPIC_COL].dropna().unique() if t != -1])\n",
    "    topic_descriptions = {}\n",
    "    \n",
    "    for tid in topic_ids:\n",
    "        # 獲取主題的代表詞（前10個）\n",
    "        try:\n",
    "            words = [w for w, _ in model.get_topic(tid)[:10]]\n",
    "            topic_descriptions[tid] = f\"Topic {tid}: {', '.join(words)}\"\n",
    "        except:\n",
    "            topic_descriptions[tid] = f\"Topic {tid}\"\n",
    "    \n",
    "    # 請求 LLM 映射\n",
    "    mapping_prompt = (\n",
    "        \"You are a research assistant. Map each topic to ONE digital resilience dimension:\\n\"\n",
    "        f\"Dimensions: {', '.join(DIMENSIONS)}\\n\\n\"\n",
    "        \"Dimension definitions:\\n\"\n",
    "        \"- ITC: IT infrastructure, cloud, networks, hardware, software systems\\n\"\n",
    "        \"- ACAP: Cybersecurity, threat detection, access control, encryption\\n\"\n",
    "        \"- DC: Data centers, disaster recovery, business continuity, redundancy\\n\"\n",
    "        \"- GOVSEC: Governance, compliance, regulations, security policies, audits\\n\"\n",
    "        \"- DATA: Data management, analytics, privacy, data quality\\n\"\n",
    "        \"- ECO: Digital ecosystem, partnerships, innovation, digital transformation\\n\"\n",
    "        \"- OTHER: None of the above\\n\\n\"\n",
    "        \"Output JSON: {\\\"Topic 0: keywords\\\": \\\"DIMENSION\\\", ...}\\n\"\n",
    "        \"Output ONLY valid JSON, no explanation.\"\n",
    "    )\n",
    "    \n",
    "    response = client.chat.completions.create(\n",
    "        model=LLM_MODEL,\n",
    "        temperature=LLM_TEMPERATURE,\n",
    "        messages=[\n",
    "            {\"role\": \"system\", \"content\": \"You are a research assistant. Output JSON only.\"},\n",
    "            {\"role\": \"user\", \"content\": mapping_prompt},\n",
    "            {\"role\": \"user\", \"content\": json.dumps({\n",
    "                \"topics\": list(topic_descriptions.values())\n",
    "            }, ensure_ascii=False)}\n",
    "        ]\n",
    "    )\n",
    "    \n",
    "    raw = response.choices[0].message.content\n",
    "    try:\n",
    "        mapping_result = json.loads(raw)\n",
    "    except Exception:\n",
    "        match = re.search(r'\\{[\\s\\S]*\\}', raw)\n",
    "        mapping_result = json.loads(match.group(0)) if match else {}\n",
    "    \n",
    "    # 解析映射結果（key 可能是 \"Topic X: ...\" 格式）\n",
    "    topic_to_dimension = {}\n",
    "    for key, dim in mapping_result.items():\n",
    "        # 提取 topic id\n",
    "        match = re.search(r'Topic (\\d+)', key)\n",
    "        if match:\n",
    "            tid = int(match.group(1))\n",
    "            topic_to_dimension[tid] = dim\n",
    "    \n",
    "    # 保存緩存\n",
    "    with open(PHASE4_TOPIC_DIM_MAP_CACHE, 'w') as f:\n",
    "        json.dump(topic_to_dimension, f, indent=2, ensure_ascii=False)\n",
    "    \n",
    "    print(f\"  - 已保存緩存: {PHASE4_TOPIC_DIM_MAP_CACHE}\")\n",
    "\n",
    "# 統計映射結果\n",
    "dim_counts = pd.Series(topic_to_dimension.values()).value_counts()\n",
    "print(\"\\n映射統計:\")\n",
    "for dim, count in dim_counts.items():\n",
    "    print(f\"  - {dim}: {count} 個主題\")\n",
    "\n",
    "# 顯示部分映射示例\n",
    "print(\"\\n映射示例（前10個）:\")\n",
    "for tid in sorted(topic_to_dimension.keys())[:10]:\n",
    "    words = ', '.join([w for w, _ in model.get_topic(tid)[:5]])\n",
    "    dim = topic_to_dimension[tid]\n",
    "    print(f\"  Topic {tid} ({words}...) → {dim}\")"
   ]
  },
  {
   "cell_type": "code",
   "execution_count": 11,
   "id": "phase4_score_topics",
   "metadata": {},
   "outputs": [
    {
     "name": "stdout",
     "output_type": "stream",
     "text": [
      "\n",
      "⚙ 對主題×構面進行評分...\n",
      "  - 生成新評分（這將大幅快於文檔級評分）...\n"
     ]
    },
    {
     "name": "stderr",
     "output_type": "stream",
     "text": [
      "評分主題: 100%|██████████| 117/117 [1:34:11<00:00, 48.31s/it]"
     ]
    },
    {
     "name": "stdout",
     "output_type": "stream",
     "text": [
      "  - 已保存緩存: data/phase4_topic_dimension_scores.json\n",
      "\n",
      "✓ 完成 117 個主題的評分\n",
      "\n",
      "評分示例（前5個主題）:\n",
      "  Topic 0 (tax, income, taxes...):\n",
      "    ACAP: 2.0\n",
      "    DC: 1.0\n",
      "    DATA: 2.0\n",
      "    ECO: 4.0\n",
      "    OTHER: 2.0\n",
      "  Topic 1 (health, care, medicare...):\n",
      "    ITC: 2.0\n",
      "    ACAP: 3.0\n",
      "    DC: 3.0\n",
      "    GOVSEC: 1.0\n",
      "    DATA: 1.0\n",
      "    ECO: 3.0\n",
      "    OTHER: 2.0\n",
      "  Topic 2 (products, product, healthcare...):\n",
      "    ITC: 2.0\n",
      "    ACAP: 2.0\n",
      "    DC: 2.0\n",
      "    GOVSEC: 2.0\n",
      "    DATA: 2.0\n",
      "    ECO: 3.0\n",
      "    OTHER: 2.0\n",
      "  Topic 3 (pension, plans, benefit...):\n",
      "    ACAP: 3.0\n",
      "    GOVSEC: 1.0\n",
      "    DATA: 3.0\n",
      "    ECO: 2.0\n",
      "    OTHER: 2.0\n",
      "  Topic 4 (exxonmobil, gas, oil...):\n",
      "    ITC: 3.0\n",
      "    ACAP: 3.0\n",
      "    DC: 1.0\n",
      "    GOVSEC: 2.0\n",
      "    DATA: 3.0\n",
      "    ECO: 5.0\n",
      "    OTHER: 3.0\n"
     ]
    },
    {
     "name": "stderr",
     "output_type": "stream",
     "text": [
      "\n"
     ]
    }
   ],
   "source": [
    "# ========================================\n",
    "# Step 2: 主題層級評分（核心優化）\n",
    "# ========================================\n",
    "\n",
    "print(\"\\n⚙ 對主題×構面進行評分...\")\n",
    "\n",
    "# 檢查緩存\n",
    "if PHASE4_TOPIC_SCORES_CACHE.exists():\n",
    "    print(\"  - 從緩存載入評分...\")\n",
    "    with open(PHASE4_TOPIC_SCORES_CACHE, 'r') as f:\n",
    "        topic_scores = json.load(f)\n",
    "    # 轉換 key\n",
    "    topic_scores = {int(k): v for k, v in topic_scores.items()}\n",
    "else:\n",
    "    print(\"  - 生成新評分（這將大幅快於文檔級評分）...\")\n",
    "    \n",
    "    topic_scores = {}  # {topic_id: {dim: score}}\n",
    "    \n",
    "    # 為每個主題生成代表性描述\n",
    "    topic_ids = sorted([int(t) for t in df[TOPIC_COL].dropna().unique() if t != -1])\n",
    "    \n",
    "    for tid in tqdm(topic_ids, desc=\"評分主題\"):\n",
    "        # 獲取主題信息\n",
    "        words = ', '.join([w for w, _ in model.get_topic(tid)[:10]])\n",
    "        examples = df[df[TOPIC_COL] == tid]['text'].head(3).tolist()\n",
    "        \n",
    "        # 構建主題描述\n",
    "        topic_desc = (\n",
    "            f\"Topic {tid}\\n\"\n",
    "            f\"Keywords: {words}\\n\"\n",
    "            f\"Example excerpts:\\n\" +\n",
    "            \"\\n---\\n\".join([ex[:500] for ex in examples])\n",
    "        )\n",
    "        \n",
    "        # 對每個構面評分\n",
    "        scores = {}\n",
    "        for dim in DIMENSIONS:\n",
    "            scoring_prompt = (\n",
    "                f\"Rate this topic's relevance and substantiveness to the '{dim}' dimension \"\n",
    "                f\"of digital resilience.\\n\\n\"\n",
    "                f\"{SCORING_RUBRIC}\\n\\n\"\n",
    "                f\"Dimension: {dim}\\n\"\n",
    "                f\"Topic information:\\n{topic_desc}\"\n",
    "            )\n",
    "            \n",
    "            try:\n",
    "                response = client.chat.completions.create(\n",
    "                    model=LLM_MODEL,\n",
    "                    temperature=LLM_TEMPERATURE,\n",
    "                    messages=[\n",
    "                        {\"role\": \"system\", \"content\": \"You are a domain expert evaluating topics. Output JSON only.\"},\n",
    "                        {\"role\": \"user\", \"content\": scoring_prompt}\n",
    "                    ]\n",
    "                )\n",
    "                \n",
    "                raw = response.choices[0].message.content\n",
    "                result = json.loads(raw) if raw.startswith('{') else json.loads(re.search(r'\\{[\\s\\S]*\\}', raw).group(0))\n",
    "                score = float(result.get('score', 0))\n",
    "                score = max(0, min(5, score))  # 限制在 0-5\n",
    "                scores[dim] = score\n",
    "            except Exception as e:\n",
    "                print(f\"  ⚠ Topic {tid}, Dim {dim} 評分失敗: {e}\")\n",
    "                scores[dim] = 0.0\n",
    "        \n",
    "        topic_scores[tid] = scores\n",
    "    \n",
    "    # 保存緩存\n",
    "    with open(PHASE4_TOPIC_SCORES_CACHE, 'w') as f:\n",
    "        json.dump(topic_scores, f, indent=2, ensure_ascii=False)\n",
    "    \n",
    "    print(f\"  - 已保存緩存: {PHASE4_TOPIC_SCORES_CACHE}\")\n",
    "\n",
    "print(f\"\\n✓ 完成 {len(topic_scores)} 個主題的評分\")\n",
    "\n",
    "# 顯示評分示例\n",
    "print(\"\\n評分示例（前5個主題）:\")\n",
    "for tid in sorted(topic_scores.keys())[:5]:\n",
    "    words = ', '.join([w for w, _ in model.get_topic(tid)[:3]])\n",
    "    scores = topic_scores[tid]\n",
    "    print(f\"  Topic {tid} ({words}...):\")\n",
    "    for dim, score in scores.items():\n",
    "        if score > 0:\n",
    "            print(f\"    {dim}: {score:.1f}\")"
   ]
  },
  {
   "cell_type": "code",
   "execution_count": 12,
   "id": "phase4_calc_doc_scores",
   "metadata": {},
   "outputs": [
    {
     "name": "stdout",
     "output_type": "stream",
     "text": [
      "⚙ 計算文檔級別的構面評分...\n",
      "  - 使用主題概率分佈進行加權計算\n"
     ]
    },
    {
     "name": "stderr",
     "output_type": "stream",
     "text": [
      "計算文檔評分: 100%|██████████| 6233/6233 [00:00<00:00, 43295.82it/s]\n"
     ]
    },
    {
     "name": "stdout",
     "output_type": "stream",
     "text": [
      "✓ 文檔評分完成\n",
      "  - 已保存: data/part4_doc_dimension_scores.csv\n"
     ]
    },
    {
     "data": {
      "text/html": [
       "<div>\n",
       "<style scoped>\n",
       "    .dataframe tbody tr th:only-of-type {\n",
       "        vertical-align: middle;\n",
       "    }\n",
       "\n",
       "    .dataframe tbody tr th {\n",
       "        vertical-align: top;\n",
       "    }\n",
       "\n",
       "    .dataframe thead th {\n",
       "        text-align: right;\n",
       "    }\n",
       "</style>\n",
       "<table border=\"1\" class=\"dataframe\">\n",
       "  <thead>\n",
       "    <tr style=\"text-align: right;\">\n",
       "      <th></th>\n",
       "      <th>text</th>\n",
       "      <th>ITC</th>\n",
       "      <th>ACAP</th>\n",
       "      <th>DC</th>\n",
       "      <th>GOVSEC</th>\n",
       "      <th>DATA</th>\n",
       "      <th>ECO</th>\n",
       "      <th>OTHER</th>\n",
       "    </tr>\n",
       "  </thead>\n",
       "  <tbody>\n",
       "    <tr>\n",
       "      <th>0</th>\n",
       "      <td>\\n\\n10-K\\n1\\nbac-1231201710xk.htm\\n10-K\\nDocum...</td>\n",
       "      <td>0.567895</td>\n",
       "      <td>0.742863</td>\n",
       "      <td>0.770305</td>\n",
       "      <td>0.766579</td>\n",
       "      <td>0.943984</td>\n",
       "      <td>1.435887</td>\n",
       "      <td>0.831297</td>\n",
       "    </tr>\n",
       "    <tr>\n",
       "      <th>1</th>\n",
       "      <td>We routinely post and make accessible financia...</td>\n",
       "      <td>0.150651</td>\n",
       "      <td>0.175765</td>\n",
       "      <td>0.249193</td>\n",
       "      <td>0.229236</td>\n",
       "      <td>0.262637</td>\n",
       "      <td>0.443559</td>\n",
       "      <td>0.229552</td>\n",
       "    </tr>\n",
       "    <tr>\n",
       "      <th>2</th>\n",
       "      <td>and in international markets, we provide a div...</td>\n",
       "      <td>0.273042</td>\n",
       "      <td>0.407353</td>\n",
       "      <td>0.242627</td>\n",
       "      <td>0.702621</td>\n",
       "      <td>0.826736</td>\n",
       "      <td>0.942030</td>\n",
       "      <td>0.318550</td>\n",
       "    </tr>\n",
       "    <tr>\n",
       "      <th>3</th>\n",
       "      <td>We compete with some of these competitors glob...</td>\n",
       "      <td>0.229346</td>\n",
       "      <td>0.368801</td>\n",
       "      <td>0.353451</td>\n",
       "      <td>0.288197</td>\n",
       "      <td>0.244599</td>\n",
       "      <td>0.381106</td>\n",
       "      <td>0.368801</td>\n",
       "    </tr>\n",
       "    <tr>\n",
       "      <th>4</th>\n",
       "      <td>None of our domestic employees are subject to ...</td>\n",
       "      <td>3.000000</td>\n",
       "      <td>3.000000</td>\n",
       "      <td>1.000000</td>\n",
       "      <td>2.000000</td>\n",
       "      <td>3.000000</td>\n",
       "      <td>5.000000</td>\n",
       "      <td>3.000000</td>\n",
       "    </tr>\n",
       "  </tbody>\n",
       "</table>\n",
       "</div>"
      ],
      "text/plain": [
       "                                                text       ITC      ACAP  \\\n",
       "0  \\n\\n10-K\\n1\\nbac-1231201710xk.htm\\n10-K\\nDocum...  0.567895  0.742863   \n",
       "1  We routinely post and make accessible financia...  0.150651  0.175765   \n",
       "2  and in international markets, we provide a div...  0.273042  0.407353   \n",
       "3  We compete with some of these competitors glob...  0.229346  0.368801   \n",
       "4  None of our domestic employees are subject to ...  3.000000  3.000000   \n",
       "\n",
       "         DC    GOVSEC      DATA       ECO     OTHER  \n",
       "0  0.770305  0.766579  0.943984  1.435887  0.831297  \n",
       "1  0.249193  0.229236  0.262637  0.443559  0.229552  \n",
       "2  0.242627  0.702621  0.826736  0.942030  0.318550  \n",
       "3  0.353451  0.288197  0.244599  0.381106  0.368801  \n",
       "4  1.000000  2.000000  3.000000  5.000000  3.000000  "
      ]
     },
     "execution_count": 12,
     "metadata": {},
     "output_type": "execute_result"
    }
   ],
   "source": [
    "# ========================================\n",
    "# Step 3: 文檔層級評分（基於主題分佈）\n",
    "# ========================================\n",
    "\n",
    "print(\"⚙ 計算文檔級別的構面評分...\")\n",
    "\n",
    "# 如果有主題概率分佈，使用加權平均；否則使用硬分配\n",
    "if PHASE2_DOC_PROBS.exists():\n",
    "    print(\"  - 使用主題概率分佈進行加權計算\")\n",
    "    probs = np.load(PHASE2_DOC_PROBS)\n",
    "    use_probs = True\n",
    "else:\n",
    "    print(\"  - 使用硬主題分配\")\n",
    "    use_probs = False\n",
    "\n",
    "doc_scores = []\n",
    "\n",
    "for idx, row in tqdm(df.iterrows(), total=len(df), desc=\"計算文檔評分\"):\n",
    "    scores = {dim: 0.0 for dim in DIMENSIONS}\n",
    "    \n",
    "    if use_probs and idx < len(probs):\n",
    "        # 基於主題概率的加權評分\n",
    "        prob_dist = probs[idx]\n",
    "        for tid, prob in enumerate(prob_dist):\n",
    "            if tid == -1 or prob < 0.01:  # 忽略離群和低概率\n",
    "                continue\n",
    "            if tid in topic_scores:\n",
    "                for dim in DIMENSIONS:\n",
    "                    scores[dim] += prob * topic_scores[tid].get(dim, 0)\n",
    "    else:\n",
    "        # 基於硬分配\n",
    "        tid = int(row[TOPIC_COL])\n",
    "        if tid != -1 and tid in topic_scores:\n",
    "            scores = topic_scores[tid].copy()\n",
    "    \n",
    "    doc_scores.append(scores)\n",
    "\n",
    "# 合併到 DataFrame\n",
    "scores_df = pd.DataFrame(doc_scores)\n",
    "result_df = pd.concat([df.reset_index(drop=True), scores_df], axis=1)\n",
    "\n",
    "# 保存\n",
    "result_df.to_csv(PHASE4_DOC_SCORES_CSV, index=False, encoding='utf-8')\n",
    "\n",
    "print(f\"✓ 文檔評分完成\")\n",
    "print(f\"  - 已保存: {PHASE4_DOC_SCORES_CSV}\")\n",
    "result_df[['text'] + DIMENSIONS].head()"
   ]
  },
  {
   "cell_type": "code",
   "execution_count": 13,
   "id": "phase4_calc_dri",
   "metadata": {},
   "outputs": [
    {
     "name": "stdout",
     "output_type": "stream",
     "text": [
      "⚙ 計算數位韌性指數（DRI）...\n",
      "  - 按 ['ticker', 'year'] 聚合\n",
      "  - 使用加權平均計算 DRI\n",
      "✓ DRI 計算完成\n",
      "  - 已保存: data/part4_entity_time_dri.csv\n",
      "\n",
      "DRI 統計:\n",
      "  - 平均值: 1.322\n",
      "  - 標準差: 0.204\n",
      "  - 範圍: [0.818, 1.585]\n"
     ]
    },
    {
     "data": {
      "text/html": [
       "<div>\n",
       "<style scoped>\n",
       "    .dataframe tbody tr th:only-of-type {\n",
       "        vertical-align: middle;\n",
       "    }\n",
       "\n",
       "    .dataframe tbody tr th {\n",
       "        vertical-align: top;\n",
       "    }\n",
       "\n",
       "    .dataframe thead th {\n",
       "        text-align: right;\n",
       "    }\n",
       "</style>\n",
       "<table border=\"1\" class=\"dataframe\">\n",
       "  <thead>\n",
       "    <tr style=\"text-align: right;\">\n",
       "      <th></th>\n",
       "      <th>ticker</th>\n",
       "      <th>year</th>\n",
       "      <th>ITC</th>\n",
       "      <th>ACAP</th>\n",
       "      <th>DC</th>\n",
       "      <th>GOVSEC</th>\n",
       "      <th>DATA</th>\n",
       "      <th>ECO</th>\n",
       "      <th>OTHER</th>\n",
       "      <th>DRI</th>\n",
       "    </tr>\n",
       "  </thead>\n",
       "  <tbody>\n",
       "    <tr>\n",
       "      <th>0</th>\n",
       "      <td>AAPL</td>\n",
       "      <td>2018</td>\n",
       "      <td>0.732843</td>\n",
       "      <td>1.214491</td>\n",
       "      <td>1.199411</td>\n",
       "      <td>0.919845</td>\n",
       "      <td>1.080862</td>\n",
       "      <td>2.008562</td>\n",
       "      <td>1.397826</td>\n",
       "      <td>1.170769</td>\n",
       "    </tr>\n",
       "    <tr>\n",
       "      <th>1</th>\n",
       "      <td>AAPL</td>\n",
       "      <td>2019</td>\n",
       "      <td>0.647035</td>\n",
       "      <td>1.140406</td>\n",
       "      <td>1.164747</td>\n",
       "      <td>0.798240</td>\n",
       "      <td>0.950223</td>\n",
       "      <td>1.854673</td>\n",
       "      <td>1.329306</td>\n",
       "      <td>1.072671</td>\n",
       "    </tr>\n",
       "    <tr>\n",
       "      <th>2</th>\n",
       "      <td>AMZN</td>\n",
       "      <td>2018</td>\n",
       "      <td>0.475591</td>\n",
       "      <td>0.870687</td>\n",
       "      <td>0.633933</td>\n",
       "      <td>0.785840</td>\n",
       "      <td>0.928183</td>\n",
       "      <td>1.310896</td>\n",
       "      <td>0.873558</td>\n",
       "      <td>0.818084</td>\n",
       "    </tr>\n",
       "    <tr>\n",
       "      <th>3</th>\n",
       "      <td>AMZN</td>\n",
       "      <td>2019</td>\n",
       "      <td>0.484569</td>\n",
       "      <td>1.055978</td>\n",
       "      <td>0.722968</td>\n",
       "      <td>0.765328</td>\n",
       "      <td>1.108889</td>\n",
       "      <td>1.528314</td>\n",
       "      <td>1.036700</td>\n",
       "      <td>0.926934</td>\n",
       "    </tr>\n",
       "    <tr>\n",
       "      <th>4</th>\n",
       "      <td>BAC</td>\n",
       "      <td>2018</td>\n",
       "      <td>0.739170</td>\n",
       "      <td>1.219561</td>\n",
       "      <td>0.817715</td>\n",
       "      <td>1.259404</td>\n",
       "      <td>1.502800</td>\n",
       "      <td>2.012307</td>\n",
       "      <td>0.964983</td>\n",
       "      <td>1.230580</td>\n",
       "    </tr>\n",
       "    <tr>\n",
       "      <th>5</th>\n",
       "      <td>BAC</td>\n",
       "      <td>2019</td>\n",
       "      <td>0.638730</td>\n",
       "      <td>1.051745</td>\n",
       "      <td>0.688897</td>\n",
       "      <td>1.225159</td>\n",
       "      <td>1.376890</td>\n",
       "      <td>2.017759</td>\n",
       "      <td>1.142673</td>\n",
       "      <td>1.134401</td>\n",
       "    </tr>\n",
       "    <tr>\n",
       "      <th>6</th>\n",
       "      <td>BRK-B</td>\n",
       "      <td>2018</td>\n",
       "      <td>0.848677</td>\n",
       "      <td>1.271849</td>\n",
       "      <td>1.049523</td>\n",
       "      <td>1.524231</td>\n",
       "      <td>1.952482</td>\n",
       "      <td>2.036254</td>\n",
       "      <td>1.467172</td>\n",
       "      <td>1.408479</td>\n",
       "    </tr>\n",
       "    <tr>\n",
       "      <th>7</th>\n",
       "      <td>BRK-B</td>\n",
       "      <td>2019</td>\n",
       "      <td>0.903161</td>\n",
       "      <td>1.458350</td>\n",
       "      <td>1.197646</td>\n",
       "      <td>1.616142</td>\n",
       "      <td>2.092728</td>\n",
       "      <td>2.241823</td>\n",
       "      <td>1.651319</td>\n",
       "      <td>1.544553</td>\n",
       "    </tr>\n",
       "    <tr>\n",
       "      <th>8</th>\n",
       "      <td>CSCO</td>\n",
       "      <td>2018</td>\n",
       "      <td>1.044537</td>\n",
       "      <td>1.507539</td>\n",
       "      <td>1.043962</td>\n",
       "      <td>1.170067</td>\n",
       "      <td>1.587339</td>\n",
       "      <td>2.066058</td>\n",
       "      <td>1.480383</td>\n",
       "      <td>1.390529</td>\n",
       "    </tr>\n",
       "    <tr>\n",
       "      <th>9</th>\n",
       "      <td>CSCO</td>\n",
       "      <td>2019</td>\n",
       "      <td>1.002996</td>\n",
       "      <td>1.451169</td>\n",
       "      <td>1.014497</td>\n",
       "      <td>1.219425</td>\n",
       "      <td>1.624125</td>\n",
       "      <td>2.019357</td>\n",
       "      <td>1.474923</td>\n",
       "      <td>1.372443</td>\n",
       "    </tr>\n",
       "  </tbody>\n",
       "</table>\n",
       "</div>"
      ],
      "text/plain": [
       "  ticker  year       ITC      ACAP        DC    GOVSEC      DATA       ECO  \\\n",
       "0   AAPL  2018  0.732843  1.214491  1.199411  0.919845  1.080862  2.008562   \n",
       "1   AAPL  2019  0.647035  1.140406  1.164747  0.798240  0.950223  1.854673   \n",
       "2   AMZN  2018  0.475591  0.870687  0.633933  0.785840  0.928183  1.310896   \n",
       "3   AMZN  2019  0.484569  1.055978  0.722968  0.765328  1.108889  1.528314   \n",
       "4    BAC  2018  0.739170  1.219561  0.817715  1.259404  1.502800  2.012307   \n",
       "5    BAC  2019  0.638730  1.051745  0.688897  1.225159  1.376890  2.017759   \n",
       "6  BRK-B  2018  0.848677  1.271849  1.049523  1.524231  1.952482  2.036254   \n",
       "7  BRK-B  2019  0.903161  1.458350  1.197646  1.616142  2.092728  2.241823   \n",
       "8   CSCO  2018  1.044537  1.507539  1.043962  1.170067  1.587339  2.066058   \n",
       "9   CSCO  2019  1.002996  1.451169  1.014497  1.219425  1.624125  2.019357   \n",
       "\n",
       "      OTHER       DRI  \n",
       "0  1.397826  1.170769  \n",
       "1  1.329306  1.072671  \n",
       "2  0.873558  0.818084  \n",
       "3  1.036700  0.926934  \n",
       "4  0.964983  1.230580  \n",
       "5  1.142673  1.134401  \n",
       "6  1.467172  1.408479  \n",
       "7  1.651319  1.544553  \n",
       "8  1.480383  1.390529  \n",
       "9  1.474923  1.372443  "
      ]
     },
     "execution_count": 13,
     "metadata": {},
     "output_type": "execute_result"
    }
   ],
   "source": [
    "# ========================================\n",
    "# Step 4: 計算數位韌性指數（DRI）\n",
    "# ========================================\n",
    "\n",
    "print(\"⚙ 計算數位韌性指數（DRI）...\")\n",
    "\n",
    "# 偵測實體和時間欄位\n",
    "entity_col = None\n",
    "for col in ['company', 'firm', 'ticker']:\n",
    "    if col in result_df.columns:\n",
    "        entity_col = col\n",
    "        break\n",
    "\n",
    "time_col = None\n",
    "for col in ['year', 'date']:\n",
    "    if col in result_df.columns:\n",
    "        time_col = col\n",
    "        break\n",
    "\n",
    "group_cols = [c for c in [entity_col, time_col] if c]\n",
    "\n",
    "if not group_cols:\n",
    "    print(\"  ⚠ 未偵測到 company/year，計算整體 DRI\")\n",
    "    agg = result_df[DIMENSIONS].mean().to_frame().T\n",
    "else:\n",
    "    print(f\"  - 按 {group_cols} 聚合\")\n",
    "    agg = result_df[group_cols + DIMENSIONS].groupby(group_cols).mean().reset_index()\n",
    "\n",
    "# 計算加權 DRI\n",
    "print(\"  - 使用加權平均計算 DRI\")\n",
    "dri_scores = np.zeros(len(agg))\n",
    "for dim in DIMENSIONS:\n",
    "    weight = DIMENSION_WEIGHTS.get(dim, 0)\n",
    "    dri_scores += agg[dim].values * weight\n",
    "\n",
    "agg['DRI'] = dri_scores\n",
    "\n",
    "# 保存\n",
    "agg.to_csv(PHASE4_DRI_CSV, index=False, encoding='utf-8')\n",
    "\n",
    "print(f\"✓ DRI 計算完成\")\n",
    "print(f\"  - 已保存: {PHASE4_DRI_CSV}\")\n",
    "print(f\"\\nDRI 統計:\")\n",
    "print(f\"  - 平均值: {agg['DRI'].mean():.3f}\")\n",
    "print(f\"  - 標準差: {agg['DRI'].std():.3f}\")\n",
    "print(f\"  - 範圍: [{agg['DRI'].min():.3f}, {agg['DRI'].max():.3f}]\")\n",
    "\n",
    "agg.head(10)"
   ]
  },
  {
   "cell_type": "code",
   "execution_count": 14,
   "id": "phase4_visualize",
   "metadata": {},
   "outputs": [
    {
     "data": {
      "application/vnd.plotly.v1+json": {
       "config": {
        "plotlyServerURL": "https://plot.ly"
       },
       "data": [
        {
         "hovertemplate": "ticker=AAPL<br>year=%{x}<br>DRI=%{y}<extra></extra>",
         "legendgroup": "AAPL",
         "line": {
          "color": "#636efa",
          "dash": "solid"
         },
         "marker": {
          "symbol": "circle"
         },
         "mode": "lines+markers",
         "name": "AAPL",
         "orientation": "v",
         "showlegend": true,
         "type": "scatter",
         "x": {
          "bdata": "4gfjBw==",
          "dtype": "i2"
         },
         "xaxis": "x",
         "y": {
          "bdata": "hu6SVHi78j8wwa2QqCnxPw==",
          "dtype": "f8"
         },
         "yaxis": "y"
        },
        {
         "hovertemplate": "ticker=AMZN<br>year=%{x}<br>DRI=%{y}<extra></extra>",
         "legendgroup": "AMZN",
         "line": {
          "color": "#EF553B",
          "dash": "solid"
         },
         "marker": {
          "symbol": "circle"
         },
         "mode": "lines+markers",
         "name": "AMZN",
         "orientation": "v",
         "showlegend": true,
         "type": "scatter",
         "x": {
          "bdata": "4gfjBw==",
          "dtype": "i2"
         },
         "xaxis": "x",
         "y": {
          "bdata": "i8cxdL0t6j+qGttccqntPw==",
          "dtype": "f8"
         },
         "yaxis": "y"
        },
        {
         "hovertemplate": "ticker=BAC<br>year=%{x}<br>DRI=%{y}<extra></extra>",
         "legendgroup": "BAC",
         "line": {
          "color": "#00cc96",
          "dash": "solid"
         },
         "marker": {
          "symbol": "circle"
         },
         "mode": "lines+markers",
         "name": "BAC",
         "orientation": "v",
         "showlegend": true,
         "type": "scatter",
         "x": {
          "bdata": "4gfjBw==",
          "dtype": "i2"
         },
         "xaxis": "x",
         "y": {
          "bdata": "AdSbrXSw8z/zgeuVgSbyPw==",
          "dtype": "f8"
         },
         "yaxis": "y"
        },
        {
         "hovertemplate": "ticker=BRK-B<br>year=%{x}<br>DRI=%{y}<extra></extra>",
         "legendgroup": "BRK-B",
         "line": {
          "color": "#ab63fa",
          "dash": "solid"
         },
         "marker": {
          "symbol": "circle"
         },
         "mode": "lines+markers",
         "name": "BRK-B",
         "orientation": "v",
         "showlegend": true,
         "type": "scatter",
         "x": {
          "bdata": "4gfjBw==",
          "dtype": "i2"
         },
         "xaxis": "x",
         "y": {
          "bdata": "vpuMCyGJ9j+omSF6fbb4Pw==",
          "dtype": "f8"
         },
         "yaxis": "y"
        },
        {
         "hovertemplate": "ticker=CSCO<br>year=%{x}<br>DRI=%{y}<extra></extra>",
         "legendgroup": "CSCO",
         "line": {
          "color": "#FFA15A",
          "dash": "solid"
         },
         "marker": {
          "symbol": "circle"
         },
         "mode": "lines+markers",
         "name": "CSCO",
         "orientation": "v",
         "showlegend": true,
         "type": "scatter",
         "x": {
          "bdata": "4gfjBw==",
          "dtype": "i2"
         },
         "xaxis": "x",
         "y": {
          "bdata": "ROHzRZs/9j/JmeA2h/X1Pw==",
          "dtype": "f8"
         },
         "yaxis": "y"
        },
        {
         "hovertemplate": "ticker=DIS<br>year=%{x}<br>DRI=%{y}<extra></extra>",
         "legendgroup": "DIS",
         "line": {
          "color": "#19d3f3",
          "dash": "solid"
         },
         "marker": {
          "symbol": "circle"
         },
         "mode": "lines+markers",
         "name": "DIS",
         "orientation": "v",
         "showlegend": true,
         "type": "scatter",
         "x": {
          "bdata": "4wc=",
          "dtype": "i2"
         },
         "xaxis": "x",
         "y": {
          "bdata": "1FfmQwGC+D8=",
          "dtype": "f8"
         },
         "yaxis": "y"
        },
        {
         "hovertemplate": "ticker=GOOGL<br>year=%{x}<br>DRI=%{y}<extra></extra>",
         "legendgroup": "GOOGL",
         "line": {
          "color": "#FF6692",
          "dash": "solid"
         },
         "marker": {
          "symbol": "circle"
         },
         "mode": "lines+markers",
         "name": "GOOGL",
         "orientation": "v",
         "showlegend": true,
         "type": "scatter",
         "x": {
          "bdata": "4gfjBw==",
          "dtype": "i2"
         },
         "xaxis": "x",
         "y": {
          "bdata": "TreZR7rq+D+2v8FQdgD5Pw==",
          "dtype": "f8"
         },
         "yaxis": "y"
        },
        {
         "hovertemplate": "ticker=HD<br>year=%{x}<br>DRI=%{y}<extra></extra>",
         "legendgroup": "HD",
         "line": {
          "color": "#B6E880",
          "dash": "solid"
         },
         "marker": {
          "symbol": "circle"
         },
         "mode": "lines+markers",
         "name": "HD",
         "orientation": "v",
         "showlegend": true,
         "type": "scatter",
         "x": {
          "bdata": "4gfjBw==",
          "dtype": "i2"
         },
         "xaxis": "x",
         "y": {
          "bdata": "eOpCEXfS9T+/6x9M0q/2Pw==",
          "dtype": "f8"
         },
         "yaxis": "y"
        },
        {
         "hovertemplate": "ticker=INTC<br>year=%{x}<br>DRI=%{y}<extra></extra>",
         "legendgroup": "INTC",
         "line": {
          "color": "#FF97FF",
          "dash": "solid"
         },
         "marker": {
          "symbol": "circle"
         },
         "mode": "lines+markers",
         "name": "INTC",
         "orientation": "v",
         "showlegend": true,
         "type": "scatter",
         "x": {
          "bdata": "4gfjBw==",
          "dtype": "i2"
         },
         "xaxis": "x",
         "y": {
          "bdata": "x7HGJPLA9j+9NgYdb8L3Pw==",
          "dtype": "f8"
         },
         "yaxis": "y"
        },
        {
         "hovertemplate": "ticker=JNJ<br>year=%{x}<br>DRI=%{y}<extra></extra>",
         "legendgroup": "JNJ",
         "line": {
          "color": "#FECB52",
          "dash": "solid"
         },
         "marker": {
          "symbol": "circle"
         },
         "mode": "lines+markers",
         "name": "JNJ",
         "orientation": "v",
         "showlegend": true,
         "type": "scatter",
         "x": {
          "bdata": "4gfjBw==",
          "dtype": "i2"
         },
         "xaxis": "x",
         "y": {
          "bdata": "Yd0fn4pB9D8ifOLkHDz1Pw==",
          "dtype": "f8"
         },
         "yaxis": "y"
        },
        {
         "hovertemplate": "ticker=JPM<br>year=%{x}<br>DRI=%{y}<extra></extra>",
         "legendgroup": "JPM",
         "line": {
          "color": "#636efa",
          "dash": "solid"
         },
         "marker": {
          "symbol": "circle"
         },
         "mode": "lines+markers",
         "name": "JPM",
         "orientation": "v",
         "showlegend": true,
         "type": "scatter",
         "x": {
          "bdata": "4gfjBw==",
          "dtype": "i2"
         },
         "xaxis": "x",
         "y": {
          "bdata": "hru54cB/9D8L9yJvoOHyPw==",
          "dtype": "f8"
         },
         "yaxis": "y"
        },
        {
         "hovertemplate": "ticker=MA<br>year=%{x}<br>DRI=%{y}<extra></extra>",
         "legendgroup": "MA",
         "line": {
          "color": "#EF553B",
          "dash": "solid"
         },
         "marker": {
          "symbol": "circle"
         },
         "mode": "lines+markers",
         "name": "MA",
         "orientation": "v",
         "showlegend": true,
         "type": "scatter",
         "x": {
          "bdata": "4gfjBw==",
          "dtype": "i2"
         },
         "xaxis": "x",
         "y": {
          "bdata": "tVcGBOix9z83iq9tMLD3Pw==",
          "dtype": "f8"
         },
         "yaxis": "y"
        },
        {
         "hovertemplate": "ticker=META<br>year=%{x}<br>DRI=%{y}<extra></extra>",
         "legendgroup": "META",
         "line": {
          "color": "#00cc96",
          "dash": "solid"
         },
         "marker": {
          "symbol": "circle"
         },
         "mode": "lines+markers",
         "name": "META",
         "orientation": "v",
         "showlegend": true,
         "type": "scatter",
         "x": {
          "bdata": "4gfjBw==",
          "dtype": "i2"
         },
         "xaxis": "x",
         "y": {
          "bdata": "VSZxapQF8z/M3n/JHoTzPw==",
          "dtype": "f8"
         },
         "yaxis": "y"
        },
        {
         "hovertemplate": "ticker=MSFT<br>year=%{x}<br>DRI=%{y}<extra></extra>",
         "legendgroup": "MSFT",
         "line": {
          "color": "#ab63fa",
          "dash": "solid"
         },
         "marker": {
          "symbol": "circle"
         },
         "mode": "lines+markers",
         "name": "MSFT",
         "orientation": "v",
         "showlegend": true,
         "type": "scatter",
         "x": {
          "bdata": "4gfjBw==",
          "dtype": "i2"
         },
         "xaxis": "x",
         "y": {
          "bdata": "QSby0Q+t8z8T6TpV8en0Pw==",
          "dtype": "f8"
         },
         "yaxis": "y"
        },
        {
         "hovertemplate": "ticker=PFE<br>year=%{x}<br>DRI=%{y}<extra></extra>",
         "legendgroup": "PFE",
         "line": {
          "color": "#FFA15A",
          "dash": "solid"
         },
         "marker": {
          "symbol": "circle"
         },
         "mode": "lines+markers",
         "name": "PFE",
         "orientation": "v",
         "showlegend": true,
         "type": "scatter",
         "x": {
          "bdata": "4gfjBw==",
          "dtype": "i2"
         },
         "xaxis": "x",
         "y": {
          "bdata": "yZFZflKO7j+gQC7jJnLrPw==",
          "dtype": "f8"
         },
         "yaxis": "y"
        },
        {
         "hovertemplate": "ticker=PG<br>year=%{x}<br>DRI=%{y}<extra></extra>",
         "legendgroup": "PG",
         "line": {
          "color": "#19d3f3",
          "dash": "solid"
         },
         "marker": {
          "symbol": "circle"
         },
         "mode": "lines+markers",
         "name": "PG",
         "orientation": "v",
         "showlegend": true,
         "type": "scatter",
         "x": {
          "bdata": "4gfjBw==",
          "dtype": "i2"
         },
         "xaxis": "x",
         "y": {
          "bdata": "l6wYgBUE9T8AJa6XybnzPw==",
          "dtype": "f8"
         },
         "yaxis": "y"
        },
        {
         "hovertemplate": "ticker=UNH<br>year=%{x}<br>DRI=%{y}<extra></extra>",
         "legendgroup": "UNH",
         "line": {
          "color": "#FF6692",
          "dash": "solid"
         },
         "marker": {
          "symbol": "circle"
         },
         "mode": "lines+markers",
         "name": "UNH",
         "orientation": "v",
         "showlegend": true,
         "type": "scatter",
         "x": {
          "bdata": "4gfjBw==",
          "dtype": "i2"
         },
         "xaxis": "x",
         "y": {
          "bdata": "dvY1rCxs9D8rV1gY/gr1Pw==",
          "dtype": "f8"
         },
         "yaxis": "y"
        },
        {
         "hovertemplate": "ticker=V<br>year=%{x}<br>DRI=%{y}<extra></extra>",
         "legendgroup": "V",
         "line": {
          "color": "#B6E880",
          "dash": "solid"
         },
         "marker": {
          "symbol": "circle"
         },
         "mode": "lines+markers",
         "name": "V",
         "orientation": "v",
         "showlegend": true,
         "type": "scatter",
         "x": {
          "bdata": "4gfjBw==",
          "dtype": "i2"
         },
         "xaxis": "x",
         "y": {
          "bdata": "4yHjPAxb+T9Q58DwEwD5Pw==",
          "dtype": "f8"
         },
         "yaxis": "y"
        },
        {
         "hovertemplate": "ticker=VZ<br>year=%{x}<br>DRI=%{y}<extra></extra>",
         "legendgroup": "VZ",
         "line": {
          "color": "#FF97FF",
          "dash": "solid"
         },
         "marker": {
          "symbol": "circle"
         },
         "mode": "lines+markers",
         "name": "VZ",
         "orientation": "v",
         "showlegend": true,
         "type": "scatter",
         "x": {
          "bdata": "4gfjBw==",
          "dtype": "i2"
         },
         "xaxis": "x",
         "y": {
          "bdata": "P55TWQmb+D8JHQkupbT4Pw==",
          "dtype": "f8"
         },
         "yaxis": "y"
        },
        {
         "hovertemplate": "ticker=XOM<br>year=%{x}<br>DRI=%{y}<extra></extra>",
         "legendgroup": "XOM",
         "line": {
          "color": "#FECB52",
          "dash": "solid"
         },
         "marker": {
          "symbol": "circle"
         },
         "mode": "lines+markers",
         "name": "XOM",
         "orientation": "v",
         "showlegend": true,
         "type": "scatter",
         "x": {
          "bdata": "4gfjBw==",
          "dtype": "i2"
         },
         "xaxis": "x",
         "y": {
          "bdata": "jN7KZ+ul+D+Sitlynan3Pw==",
          "dtype": "f8"
         },
         "yaxis": "y"
        }
       ],
       "layout": {
        "legend": {
         "title": {
          "text": "ticker"
         },
         "tracegroupgap": 0
        },
        "template": {
         "data": {
          "bar": [
           {
            "error_x": {
             "color": "#2a3f5f"
            },
            "error_y": {
             "color": "#2a3f5f"
            },
            "marker": {
             "line": {
              "color": "#E5ECF6",
              "width": 0.5
             },
             "pattern": {
              "fillmode": "overlay",
              "size": 10,
              "solidity": 0.2
             }
            },
            "type": "bar"
           }
          ],
          "barpolar": [
           {
            "marker": {
             "line": {
              "color": "#E5ECF6",
              "width": 0.5
             },
             "pattern": {
              "fillmode": "overlay",
              "size": 10,
              "solidity": 0.2
             }
            },
            "type": "barpolar"
           }
          ],
          "carpet": [
           {
            "aaxis": {
             "endlinecolor": "#2a3f5f",
             "gridcolor": "white",
             "linecolor": "white",
             "minorgridcolor": "white",
             "startlinecolor": "#2a3f5f"
            },
            "baxis": {
             "endlinecolor": "#2a3f5f",
             "gridcolor": "white",
             "linecolor": "white",
             "minorgridcolor": "white",
             "startlinecolor": "#2a3f5f"
            },
            "type": "carpet"
           }
          ],
          "choropleth": [
           {
            "colorbar": {
             "outlinewidth": 0,
             "ticks": ""
            },
            "type": "choropleth"
           }
          ],
          "contour": [
           {
            "colorbar": {
             "outlinewidth": 0,
             "ticks": ""
            },
            "colorscale": [
             [
              0,
              "#0d0887"
             ],
             [
              0.1111111111111111,
              "#46039f"
             ],
             [
              0.2222222222222222,
              "#7201a8"
             ],
             [
              0.3333333333333333,
              "#9c179e"
             ],
             [
              0.4444444444444444,
              "#bd3786"
             ],
             [
              0.5555555555555556,
              "#d8576b"
             ],
             [
              0.6666666666666666,
              "#ed7953"
             ],
             [
              0.7777777777777778,
              "#fb9f3a"
             ],
             [
              0.8888888888888888,
              "#fdca26"
             ],
             [
              1,
              "#f0f921"
             ]
            ],
            "type": "contour"
           }
          ],
          "contourcarpet": [
           {
            "colorbar": {
             "outlinewidth": 0,
             "ticks": ""
            },
            "type": "contourcarpet"
           }
          ],
          "heatmap": [
           {
            "colorbar": {
             "outlinewidth": 0,
             "ticks": ""
            },
            "colorscale": [
             [
              0,
              "#0d0887"
             ],
             [
              0.1111111111111111,
              "#46039f"
             ],
             [
              0.2222222222222222,
              "#7201a8"
             ],
             [
              0.3333333333333333,
              "#9c179e"
             ],
             [
              0.4444444444444444,
              "#bd3786"
             ],
             [
              0.5555555555555556,
              "#d8576b"
             ],
             [
              0.6666666666666666,
              "#ed7953"
             ],
             [
              0.7777777777777778,
              "#fb9f3a"
             ],
             [
              0.8888888888888888,
              "#fdca26"
             ],
             [
              1,
              "#f0f921"
             ]
            ],
            "type": "heatmap"
           }
          ],
          "histogram": [
           {
            "marker": {
             "pattern": {
              "fillmode": "overlay",
              "size": 10,
              "solidity": 0.2
             }
            },
            "type": "histogram"
           }
          ],
          "histogram2d": [
           {
            "colorbar": {
             "outlinewidth": 0,
             "ticks": ""
            },
            "colorscale": [
             [
              0,
              "#0d0887"
             ],
             [
              0.1111111111111111,
              "#46039f"
             ],
             [
              0.2222222222222222,
              "#7201a8"
             ],
             [
              0.3333333333333333,
              "#9c179e"
             ],
             [
              0.4444444444444444,
              "#bd3786"
             ],
             [
              0.5555555555555556,
              "#d8576b"
             ],
             [
              0.6666666666666666,
              "#ed7953"
             ],
             [
              0.7777777777777778,
              "#fb9f3a"
             ],
             [
              0.8888888888888888,
              "#fdca26"
             ],
             [
              1,
              "#f0f921"
             ]
            ],
            "type": "histogram2d"
           }
          ],
          "histogram2dcontour": [
           {
            "colorbar": {
             "outlinewidth": 0,
             "ticks": ""
            },
            "colorscale": [
             [
              0,
              "#0d0887"
             ],
             [
              0.1111111111111111,
              "#46039f"
             ],
             [
              0.2222222222222222,
              "#7201a8"
             ],
             [
              0.3333333333333333,
              "#9c179e"
             ],
             [
              0.4444444444444444,
              "#bd3786"
             ],
             [
              0.5555555555555556,
              "#d8576b"
             ],
             [
              0.6666666666666666,
              "#ed7953"
             ],
             [
              0.7777777777777778,
              "#fb9f3a"
             ],
             [
              0.8888888888888888,
              "#fdca26"
             ],
             [
              1,
              "#f0f921"
             ]
            ],
            "type": "histogram2dcontour"
           }
          ],
          "mesh3d": [
           {
            "colorbar": {
             "outlinewidth": 0,
             "ticks": ""
            },
            "type": "mesh3d"
           }
          ],
          "parcoords": [
           {
            "line": {
             "colorbar": {
              "outlinewidth": 0,
              "ticks": ""
             }
            },
            "type": "parcoords"
           }
          ],
          "pie": [
           {
            "automargin": true,
            "type": "pie"
           }
          ],
          "scatter": [
           {
            "fillpattern": {
             "fillmode": "overlay",
             "size": 10,
             "solidity": 0.2
            },
            "type": "scatter"
           }
          ],
          "scatter3d": [
           {
            "line": {
             "colorbar": {
              "outlinewidth": 0,
              "ticks": ""
             }
            },
            "marker": {
             "colorbar": {
              "outlinewidth": 0,
              "ticks": ""
             }
            },
            "type": "scatter3d"
           }
          ],
          "scattercarpet": [
           {
            "marker": {
             "colorbar": {
              "outlinewidth": 0,
              "ticks": ""
             }
            },
            "type": "scattercarpet"
           }
          ],
          "scattergeo": [
           {
            "marker": {
             "colorbar": {
              "outlinewidth": 0,
              "ticks": ""
             }
            },
            "type": "scattergeo"
           }
          ],
          "scattergl": [
           {
            "marker": {
             "colorbar": {
              "outlinewidth": 0,
              "ticks": ""
             }
            },
            "type": "scattergl"
           }
          ],
          "scattermap": [
           {
            "marker": {
             "colorbar": {
              "outlinewidth": 0,
              "ticks": ""
             }
            },
            "type": "scattermap"
           }
          ],
          "scattermapbox": [
           {
            "marker": {
             "colorbar": {
              "outlinewidth": 0,
              "ticks": ""
             }
            },
            "type": "scattermapbox"
           }
          ],
          "scatterpolar": [
           {
            "marker": {
             "colorbar": {
              "outlinewidth": 0,
              "ticks": ""
             }
            },
            "type": "scatterpolar"
           }
          ],
          "scatterpolargl": [
           {
            "marker": {
             "colorbar": {
              "outlinewidth": 0,
              "ticks": ""
             }
            },
            "type": "scatterpolargl"
           }
          ],
          "scatterternary": [
           {
            "marker": {
             "colorbar": {
              "outlinewidth": 0,
              "ticks": ""
             }
            },
            "type": "scatterternary"
           }
          ],
          "surface": [
           {
            "colorbar": {
             "outlinewidth": 0,
             "ticks": ""
            },
            "colorscale": [
             [
              0,
              "#0d0887"
             ],
             [
              0.1111111111111111,
              "#46039f"
             ],
             [
              0.2222222222222222,
              "#7201a8"
             ],
             [
              0.3333333333333333,
              "#9c179e"
             ],
             [
              0.4444444444444444,
              "#bd3786"
             ],
             [
              0.5555555555555556,
              "#d8576b"
             ],
             [
              0.6666666666666666,
              "#ed7953"
             ],
             [
              0.7777777777777778,
              "#fb9f3a"
             ],
             [
              0.8888888888888888,
              "#fdca26"
             ],
             [
              1,
              "#f0f921"
             ]
            ],
            "type": "surface"
           }
          ],
          "table": [
           {
            "cells": {
             "fill": {
              "color": "#EBF0F8"
             },
             "line": {
              "color": "white"
             }
            },
            "header": {
             "fill": {
              "color": "#C8D4E3"
             },
             "line": {
              "color": "white"
             }
            },
            "type": "table"
           }
          ]
         },
         "layout": {
          "annotationdefaults": {
           "arrowcolor": "#2a3f5f",
           "arrowhead": 0,
           "arrowwidth": 1
          },
          "autotypenumbers": "strict",
          "coloraxis": {
           "colorbar": {
            "outlinewidth": 0,
            "ticks": ""
           }
          },
          "colorscale": {
           "diverging": [
            [
             0,
             "#8e0152"
            ],
            [
             0.1,
             "#c51b7d"
            ],
            [
             0.2,
             "#de77ae"
            ],
            [
             0.3,
             "#f1b6da"
            ],
            [
             0.4,
             "#fde0ef"
            ],
            [
             0.5,
             "#f7f7f7"
            ],
            [
             0.6,
             "#e6f5d0"
            ],
            [
             0.7,
             "#b8e186"
            ],
            [
             0.8,
             "#7fbc41"
            ],
            [
             0.9,
             "#4d9221"
            ],
            [
             1,
             "#276419"
            ]
           ],
           "sequential": [
            [
             0,
             "#0d0887"
            ],
            [
             0.1111111111111111,
             "#46039f"
            ],
            [
             0.2222222222222222,
             "#7201a8"
            ],
            [
             0.3333333333333333,
             "#9c179e"
            ],
            [
             0.4444444444444444,
             "#bd3786"
            ],
            [
             0.5555555555555556,
             "#d8576b"
            ],
            [
             0.6666666666666666,
             "#ed7953"
            ],
            [
             0.7777777777777778,
             "#fb9f3a"
            ],
            [
             0.8888888888888888,
             "#fdca26"
            ],
            [
             1,
             "#f0f921"
            ]
           ],
           "sequentialminus": [
            [
             0,
             "#0d0887"
            ],
            [
             0.1111111111111111,
             "#46039f"
            ],
            [
             0.2222222222222222,
             "#7201a8"
            ],
            [
             0.3333333333333333,
             "#9c179e"
            ],
            [
             0.4444444444444444,
             "#bd3786"
            ],
            [
             0.5555555555555556,
             "#d8576b"
            ],
            [
             0.6666666666666666,
             "#ed7953"
            ],
            [
             0.7777777777777778,
             "#fb9f3a"
            ],
            [
             0.8888888888888888,
             "#fdca26"
            ],
            [
             1,
             "#f0f921"
            ]
           ]
          },
          "colorway": [
           "#636efa",
           "#EF553B",
           "#00cc96",
           "#ab63fa",
           "#FFA15A",
           "#19d3f3",
           "#FF6692",
           "#B6E880",
           "#FF97FF",
           "#FECB52"
          ],
          "font": {
           "color": "#2a3f5f"
          },
          "geo": {
           "bgcolor": "white",
           "lakecolor": "white",
           "landcolor": "#E5ECF6",
           "showlakes": true,
           "showland": true,
           "subunitcolor": "white"
          },
          "hoverlabel": {
           "align": "left"
          },
          "hovermode": "closest",
          "mapbox": {
           "style": "light"
          },
          "paper_bgcolor": "white",
          "plot_bgcolor": "#E5ECF6",
          "polar": {
           "angularaxis": {
            "gridcolor": "white",
            "linecolor": "white",
            "ticks": ""
           },
           "bgcolor": "#E5ECF6",
           "radialaxis": {
            "gridcolor": "white",
            "linecolor": "white",
            "ticks": ""
           }
          },
          "scene": {
           "xaxis": {
            "backgroundcolor": "#E5ECF6",
            "gridcolor": "white",
            "gridwidth": 2,
            "linecolor": "white",
            "showbackground": true,
            "ticks": "",
            "zerolinecolor": "white"
           },
           "yaxis": {
            "backgroundcolor": "#E5ECF6",
            "gridcolor": "white",
            "gridwidth": 2,
            "linecolor": "white",
            "showbackground": true,
            "ticks": "",
            "zerolinecolor": "white"
           },
           "zaxis": {
            "backgroundcolor": "#E5ECF6",
            "gridcolor": "white",
            "gridwidth": 2,
            "linecolor": "white",
            "showbackground": true,
            "ticks": "",
            "zerolinecolor": "white"
           }
          },
          "shapedefaults": {
           "line": {
            "color": "#2a3f5f"
           }
          },
          "ternary": {
           "aaxis": {
            "gridcolor": "white",
            "linecolor": "white",
            "ticks": ""
           },
           "baxis": {
            "gridcolor": "white",
            "linecolor": "white",
            "ticks": ""
           },
           "bgcolor": "#E5ECF6",
           "caxis": {
            "gridcolor": "white",
            "linecolor": "white",
            "ticks": ""
           }
          },
          "title": {
           "x": 0.05
          },
          "xaxis": {
           "automargin": true,
           "gridcolor": "white",
           "linecolor": "white",
           "ticks": "",
           "title": {
            "standoff": 15
           },
           "zerolinecolor": "white",
           "zerolinewidth": 2
          },
          "yaxis": {
           "automargin": true,
           "gridcolor": "white",
           "linecolor": "white",
           "ticks": "",
           "title": {
            "standoff": 15
           },
           "zerolinecolor": "white",
           "zerolinewidth": 2
          }
         }
        },
        "title": {
         "text": "數位韌性指數（DRI）時序趨勢"
        },
        "xaxis": {
         "anchor": "y",
         "domain": [
          0,
          1
         ],
         "title": {
          "text": "year"
         }
        },
        "yaxis": {
         "anchor": "x",
         "domain": [
          0,
          1
         ],
         "title": {
          "text": "DRI"
         }
        }
       }
      }
     },
     "metadata": {},
     "output_type": "display_data"
    },
    {
     "name": "stdout",
     "output_type": "stream",
     "text": [
      "\n",
      "✓ 可視化完成\n"
     ]
    }
   ],
   "source": [
    "# ========================================\n",
    "# 可視化 DRI\n",
    "# ========================================\n",
    "\n",
    "import plotly.express as px\n",
    "\n",
    "if entity_col and time_col:\n",
    "    fig = px.line(\n",
    "        agg,\n",
    "        x=time_col,\n",
    "        y='DRI',\n",
    "        color=entity_col,\n",
    "        markers=True,\n",
    "        title='數位韌性指數（DRI）時序趨勢'\n",
    "    )\n",
    "    fig.show()\n",
    "elif entity_col:\n",
    "    fig = px.bar(\n",
    "        agg,\n",
    "        x=entity_col,\n",
    "        y='DRI',\n",
    "        title='各實體的數位韌性指數（DRI）'\n",
    "    )\n",
    "    fig.show()\n",
    "else:\n",
    "    fig = px.bar(\n",
    "        agg,\n",
    "        x=list(range(len(agg))),\n",
    "        y='DRI',\n",
    "        title='整體數位韌性指數（DRI）'\n",
    "    )\n",
    "    fig.show()\n",
    "\n",
    "print(\"\\n✓ 可視化完成\")"
   ]
  },
  {
   "cell_type": "markdown",
   "id": "summary",
   "metadata": {},
   "source": [
    "---\n",
    "# 總結\n",
    "\n",
    "## 優化成果\n",
    "\n",
    "### 1. 集中配置管理\n",
    "- 所有關鍵參數在第一個 cell 統一管理\n",
    "- 易於調整和實驗\n",
    "\n",
    "### 2. Phase 3 多輪迭代\n",
    "- 支持多輪 LLM 優化（可配置）\n",
    "- 追蹤每輪的指標變化\n",
    "\n",
    "### 3. Phase 4 主題層級評分\n",
    "- **速度提升**: 從 6000+ 文檔 → ~70 主題\n",
    "- **準確性提升**: LLM 獲得主題關鍵詞，不再盲目猜測\n",
    "- 使用主題概率分佈加權計算文檔評分\n",
    "\n",
    "### 4. 緩存機制\n",
    "- 嵌入向量緩存\n",
    "- Phase 3 優化計劃緩存\n",
    "- Phase 4 主題映射和評分緩存\n",
    "\n",
    "### 5. 加權 DRI 計算\n",
    "- 支持自定義構面權重\n",
    "- 更靈活的指標計算\n",
    "\n",
    "## 輸出文件清單\n",
    "\n",
    "- `data/part2_bertopic_model/` - Phase 2 模型\n",
    "- `data/part2_topics.csv` - Phase 2 主題列表\n",
    "- `data/part2_corpus_with_topics.csv` - Phase 2 帶主題標註的語料\n",
    "- `data/part3_optimized_bertopic_model/` - Phase 3 優化模型\n",
    "- `data/part3_corpus_with_topics_v2.csv` - Phase 3 優化後語料\n",
    "- `data/phase3_optimization_plans.json` - 優化歷史記錄\n",
    "- `data/phase4_topic_dimension_map.json` - 主題-構面映射緩存\n",
    "- `data/phase4_topic_dimension_scores.json` - 主題評分緩存\n",
    "- `data/part4_doc_dimension_scores.csv` - 文檔級構面評分\n",
    "- `data/part4_entity_time_dri.csv` - 最終 DRI 指數"
   ]
  }
 ],
 "metadata": {
  "kernelspec": {
   "display_name": "augmentation-agent-topic",
   "language": "python",
   "name": "python3"
  },
  "language_info": {
   "codemirror_mode": {
    "name": "ipython",
    "version": 3
   },
   "file_extension": ".py",
   "mimetype": "text/x-python",
   "name": "python",
   "nbconvert_exporter": "python",
   "pygments_lexer": "ipython3",
   "version": "3.13.7"
  }
 },
 "nbformat": 4,
 "nbformat_minor": 5
}
